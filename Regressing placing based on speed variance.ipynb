{
 "cells": [
  {
   "cell_type": "markdown",
   "metadata": {},
   "source": [
    "In this notebook we'll apply linear regression to the problem of estimating placing. That is, we want to create an estimator to determine where the runner will place. We will start with the simplest (read, most obvious) methods, and progress to less obvious, but hopefully nearly as predictive (using less data) models."
   ]
  },
  {
   "cell_type": "code",
   "execution_count": 1,
   "metadata": {},
   "outputs": [],
   "source": [
    "import pandas as pd\n",
    "import numpy as np\n",
    "from sklearn.feature_selection import RFECV\n",
    "from sklearn.linear_model import LinearRegression\n",
    "from sklearn.model_selection import train_test_split, cross_val_score\n",
    "from itertools import compress\n",
    "from matplotlib import pyplot as plt\n",
    "import seaborn as sns\n",
    "from decimal import Decimal # Used for scientific notation\n",
    "%matplotlib inline"
   ]
  },
  {
   "cell_type": "code",
   "execution_count": 2,
   "metadata": {},
   "outputs": [],
   "source": [
    "df = pd.read_csv('data/2017/mens_speed.csv')"
   ]
  },
  {
   "cell_type": "code",
   "execution_count": 3,
   "metadata": {},
   "outputs": [
    {
     "data": {
      "text/plain": [
       "10391"
      ]
     },
     "execution_count": 3,
     "metadata": {},
     "output_type": "execute_result"
    }
   ],
   "source": [
    "len(df)"
   ]
  },
  {
   "cell_type": "code",
   "execution_count": 68,
   "metadata": {},
   "outputs": [
    {
     "data": {
      "text/html": [
       "<div>\n",
       "<style>\n",
       "    .dataframe thead tr:only-child th {\n",
       "        text-align: right;\n",
       "    }\n",
       "\n",
       "    .dataframe thead th {\n",
       "        text-align: left;\n",
       "    }\n",
       "\n",
       "    .dataframe tbody tr th {\n",
       "        vertical-align: top;\n",
       "    }\n",
       "</style>\n",
       "<table border=\"1\" class=\"dataframe\">\n",
       "  <thead>\n",
       "    <tr style=\"text-align: right;\">\n",
       "      <th></th>\n",
       "      <th>div_place</th>\n",
       "      <th>name</th>\n",
       "      <th>bib</th>\n",
       "      <th>age</th>\n",
       "      <th>place</th>\n",
       "      <th>gender_place</th>\n",
       "      <th>5k_split</th>\n",
       "      <th>10k_split</th>\n",
       "      <th>15k_split</th>\n",
       "      <th>20k_split</th>\n",
       "      <th>...</th>\n",
       "      <th>40k_speed</th>\n",
       "      <th>last_2k_speed</th>\n",
       "      <th>10k_avg_speed</th>\n",
       "      <th>15k_avg_speed</th>\n",
       "      <th>20k_avg_speed</th>\n",
       "      <th>25k_avg_speed</th>\n",
       "      <th>30k_avg_speed</th>\n",
       "      <th>35k_avg_speed</th>\n",
       "      <th>40k_avg_speed</th>\n",
       "      <th>final_avg_speed</th>\n",
       "    </tr>\n",
       "  </thead>\n",
       "  <tbody>\n",
       "    <tr>\n",
       "      <th>0</th>\n",
       "      <td>1</td>\n",
       "      <td>EDGAR YAK DE PADUA</td>\n",
       "      <td>41626</td>\n",
       "      <td>14</td>\n",
       "      <td>472</td>\n",
       "      <td>445</td>\n",
       "      <td>22.366667</td>\n",
       "      <td>44.700000</td>\n",
       "      <td>67.033333</td>\n",
       "      <td>89.466667</td>\n",
       "      <td>...</td>\n",
       "      <td>3.209243</td>\n",
       "      <td>1.212038</td>\n",
       "      <td>3.728561</td>\n",
       "      <td>3.729488</td>\n",
       "      <td>3.725782</td>\n",
       "      <td>3.679717</td>\n",
       "      <td>3.598848</td>\n",
       "      <td>3.508772</td>\n",
       "      <td>3.468308</td>\n",
       "      <td>3.464286</td>\n",
       "    </tr>\n",
       "    <tr>\n",
       "      <th>1</th>\n",
       "      <td>2</td>\n",
       "      <td>DAVID ROMAN</td>\n",
       "      <td>40554</td>\n",
       "      <td>15</td>\n",
       "      <td>505</td>\n",
       "      <td>473</td>\n",
       "      <td>24.783333</td>\n",
       "      <td>47.233333</td>\n",
       "      <td>68.916667</td>\n",
       "      <td>91.416667</td>\n",
       "      <td>...</td>\n",
       "      <td>3.004808</td>\n",
       "      <td>1.808072</td>\n",
       "      <td>3.528582</td>\n",
       "      <td>3.627570</td>\n",
       "      <td>3.646308</td>\n",
       "      <td>3.643784</td>\n",
       "      <td>3.604037</td>\n",
       "      <td>3.529293</td>\n",
       "      <td>3.453933</td>\n",
       "      <td>3.447022</td>\n",
       "    </tr>\n",
       "    <tr>\n",
       "      <th>2</th>\n",
       "      <td>3</td>\n",
       "      <td>RONALD PINEDA</td>\n",
       "      <td>41123</td>\n",
       "      <td>13</td>\n",
       "      <td>549</td>\n",
       "      <td>509</td>\n",
       "      <td>22.833333</td>\n",
       "      <td>45.566667</td>\n",
       "      <td>68.183333</td>\n",
       "      <td>90.633333</td>\n",
       "      <td>...</td>\n",
       "      <td>3.172589</td>\n",
       "      <td>1.199454</td>\n",
       "      <td>3.657644</td>\n",
       "      <td>3.666585</td>\n",
       "      <td>3.677823</td>\n",
       "      <td>3.642191</td>\n",
       "      <td>3.569304</td>\n",
       "      <td>3.483627</td>\n",
       "      <td>3.441452</td>\n",
       "      <td>3.414387</td>\n",
       "    </tr>\n",
       "    <tr>\n",
       "      <th>3</th>\n",
       "      <td>4</td>\n",
       "      <td>ROBERT HAWRYLO</td>\n",
       "      <td>41574</td>\n",
       "      <td>15</td>\n",
       "      <td>646</td>\n",
       "      <td>596</td>\n",
       "      <td>25.566667</td>\n",
       "      <td>48.433333</td>\n",
       "      <td>71.500000</td>\n",
       "      <td>94.866667</td>\n",
       "      <td>...</td>\n",
       "      <td>3.207184</td>\n",
       "      <td>1.679419</td>\n",
       "      <td>3.441156</td>\n",
       "      <td>3.496503</td>\n",
       "      <td>3.513703</td>\n",
       "      <td>3.498461</td>\n",
       "      <td>3.451450</td>\n",
       "      <td>3.396739</td>\n",
       "      <td>3.371828</td>\n",
       "      <td>3.368056</td>\n",
       "    </tr>\n",
       "    <tr>\n",
       "      <th>4</th>\n",
       "      <td>5</td>\n",
       "      <td>BRYAN SON</td>\n",
       "      <td>40561</td>\n",
       "      <td>14</td>\n",
       "      <td>711</td>\n",
       "      <td>654</td>\n",
       "      <td>25.083333</td>\n",
       "      <td>50.083333</td>\n",
       "      <td>74.183333</td>\n",
       "      <td>97.916667</td>\n",
       "      <td>...</td>\n",
       "      <td>3.094059</td>\n",
       "      <td>2.337593</td>\n",
       "      <td>3.327787</td>\n",
       "      <td>3.370029</td>\n",
       "      <td>3.404255</td>\n",
       "      <td>3.415301</td>\n",
       "      <td>3.406381</td>\n",
       "      <td>3.371544</td>\n",
       "      <td>3.334167</td>\n",
       "      <td>3.341120</td>\n",
       "    </tr>\n",
       "  </tbody>\n",
       "</table>\n",
       "<p>5 rows × 34 columns</p>\n",
       "</div>"
      ],
      "text/plain": [
       "   div_place                name    bib  age  place  gender_place   5k_split  \\\n",
       "0          1  EDGAR YAK DE PADUA  41626   14    472           445  22.366667   \n",
       "1          2         DAVID ROMAN  40554   15    505           473  24.783333   \n",
       "2          3       RONALD PINEDA  41123   13    549           509  22.833333   \n",
       "3          4      ROBERT HAWRYLO  41574   15    646           596  25.566667   \n",
       "4          5           BRYAN SON  40561   14    711           654  25.083333   \n",
       "\n",
       "   10k_split  15k_split  20k_split       ...         40k_speed  last_2k_speed  \\\n",
       "0  44.700000  67.033333  89.466667       ...          3.209243       1.212038   \n",
       "1  47.233333  68.916667  91.416667       ...          3.004808       1.808072   \n",
       "2  45.566667  68.183333  90.633333       ...          3.172589       1.199454   \n",
       "3  48.433333  71.500000  94.866667       ...          3.207184       1.679419   \n",
       "4  50.083333  74.183333  97.916667       ...          3.094059       2.337593   \n",
       "\n",
       "   10k_avg_speed  15k_avg_speed  20k_avg_speed  25k_avg_speed 30k_avg_speed  \\\n",
       "0       3.728561       3.729488       3.725782       3.679717      3.598848   \n",
       "1       3.528582       3.627570       3.646308       3.643784      3.604037   \n",
       "2       3.657644       3.666585       3.677823       3.642191      3.569304   \n",
       "3       3.441156       3.496503       3.513703       3.498461      3.451450   \n",
       "4       3.327787       3.370029       3.404255       3.415301      3.406381   \n",
       "\n",
       "   35k_avg_speed  40k_avg_speed  final_avg_speed  \n",
       "0       3.508772       3.468308         3.464286  \n",
       "1       3.529293       3.453933         3.447022  \n",
       "2       3.483627       3.441452         3.414387  \n",
       "3       3.396739       3.371828         3.368056  \n",
       "4       3.371544       3.334167         3.341120  \n",
       "\n",
       "[5 rows x 34 columns]"
      ]
     },
     "execution_count": 68,
     "metadata": {},
     "output_type": "execute_result"
    }
   ],
   "source": [
    "df.head()"
   ]
  },
  {
   "cell_type": "code",
   "execution_count": 69,
   "metadata": {},
   "outputs": [
    {
     "data": {
      "text/plain": [
       "Index(['div_place', 'name', 'bib', 'age', 'place', 'gender_place', '5k_split',\n",
       "       '10k_split', '15k_split', '20k_split', '25k_split', '30k_split',\n",
       "       '35k_split', '40k_split', 'clock_time', 'net_time', 'hometown',\n",
       "       '5k_speed', '10k_speed', '15k_speed', '20k_speed', '25k_speed',\n",
       "       '30k_speed', '35k_speed', '40k_speed', 'last_2k_speed', '10k_avg_speed',\n",
       "       '15k_avg_speed', '20k_avg_speed', '25k_avg_speed', '30k_avg_speed',\n",
       "       '35k_avg_speed', '40k_avg_speed', 'final_avg_speed'],\n",
       "      dtype='object')"
      ]
     },
     "execution_count": 69,
     "metadata": {},
     "output_type": "execute_result"
    }
   ],
   "source": [
    "df.columns"
   ]
  },
  {
   "cell_type": "markdown",
   "metadata": {},
   "source": [
    "We'll start by using split times. We will simply use all the splits except the clock_time, and use cross validation to get how well predictions are made, evaluated both using MSE and R^2."
   ]
  },
  {
   "cell_type": "code",
   "execution_count": 70,
   "metadata": {
    "collapsed": true
   },
   "outputs": [],
   "source": [
    "lr = LinearRegression()"
   ]
  },
  {
   "cell_type": "code",
   "execution_count": 71,
   "metadata": {
    "collapsed": true
   },
   "outputs": [],
   "source": [
    "speed_cols = [str(D) + 'k_speed' for D in np.arange(5, 45, 5)]"
   ]
  },
  {
   "cell_type": "code",
   "execution_count": 75,
   "metadata": {},
   "outputs": [],
   "source": [
    "X = df[speed_cols].as_matrix()\n",
    "y = df['place'].as_matrix()"
   ]
  },
  {
   "cell_type": "code",
   "execution_count": 73,
   "metadata": {},
   "outputs": [
    {
     "name": "stdout",
     "output_type": "stream",
     "text": [
      "MSE Cross Validation Results\n",
      "Mean: 2.64E+6\n",
      "Std. Dev.: 6.56E+5\n",
      "\n",
      "R^2 Cross Validation Results\n",
      "Mean: 0.902\n",
      "Std. Dev.: 0.0206\n"
     ]
    }
   ],
   "source": [
    "cv_score_MSE = cross_val_score(lr, X=X, y=y, scoring='neg_mean_squared_error', cv=5)\n",
    "print(\"MSE Cross Validation Results\\nMean: {:.2E}\\nStd. Dev.: {:.2E}\\n\".format(-Decimal(np.mean(cv_score_MSE)), \\\n",
    "                                                                               Decimal(np.std(cv_score_MSE))))\n",
    "\n",
    "cv_score_R2 = cross_val_score(lr, X=X, y=y, cv=5)\n",
    "print(\"R^2 Cross Validation Results\\nMean: {:.3}\\nStd. Dev.: {:.3}\".format(np.mean(cv_score_R2), \\\n",
    "                                                                             np.std(cv_score_R2)))"
   ]
  },
  {
   "cell_type": "markdown",
   "metadata": {},
   "source": [
    "Let's use one last baseline, namely 5k_split. So we'll only look at where people are at the 5k mark."
   ]
  },
  {
   "cell_type": "code",
   "execution_count": 74,
   "metadata": {},
   "outputs": [
    {
     "name": "stdout",
     "output_type": "stream",
     "text": [
      "MSE Cross Validation Results\n",
      "Mean: 1.01E+7\n",
      "Std. Dev.: 7.96E+5\n",
      "\n",
      "R^2 Cross Validation Results\n",
      "Mean: 0.621\n",
      "Std. Dev.: 0.0423\n"
     ]
    }
   ],
   "source": [
    "X_5k = df['5k_split'].as_matrix()\n",
    "X_5k = X_5k.reshape((len(X_5k), 1))\n",
    "\n",
    "cv_score_MSE = cross_val_score(lr, X=X_5k, y=y, scoring='neg_mean_squared_error', cv=5)\n",
    "print(\"MSE Cross Validation Results\\nMean: {:.2E}\\nStd. Dev.: {:.2E}\\n\".format(-Decimal(np.mean(cv_score_MSE)), \\\n",
    "                                                                               Decimal(np.std(cv_score_MSE))))\n",
    "\n",
    "cv_score_R2 = cross_val_score(lr, X=X_5k, y=y, cv=5)\n",
    "print(\"R^2 Cross Validation Results\\nMean: {:.3}\\nStd. Dev.: {:.3}\".format(np.mean(cv_score_R2), \\\n",
    "                                                                             np.std(cv_score_R2)))"
   ]
  },
  {
   "cell_type": "markdown",
   "metadata": {},
   "source": [
    "Not surprisingly, this drastically reduces the accuracy. In particular, the MSE nearly quadruples. However, it is silly to supply our model with speeds at all of the splits, as this is simply too much information. Thus we'll use this 5k prediction as a baseline. If we could produce a model that gives similar (or better!) results, *without* needing to know their speed, that would be great."
   ]
  },
  {
   "cell_type": "markdown",
   "metadata": {},
   "source": [
    "Next let's so how simply using L2 speed variance holds up."
   ]
  },
  {
   "cell_type": "code",
   "execution_count": 75,
   "metadata": {
    "collapsed": true
   },
   "outputs": [],
   "source": [
    "lr = LinearRegression()"
   ]
  },
  {
   "cell_type": "code",
   "execution_count": 76,
   "metadata": {
    "collapsed": true
   },
   "outputs": [],
   "source": [
    "L2_vals = df['5k_split']*0 # Quickly create a series filled with zeros of the correct length\n",
    "\n",
    "for col in speed_cols:\n",
    "    L2_vals += np.square(df[col] - df['final_avg_speed'])\n",
    "    \n",
    "df['L2_speed_diff'] = L2_vals"
   ]
  },
  {
   "cell_type": "code",
   "execution_count": 77,
   "metadata": {},
   "outputs": [
    {
     "name": "stdout",
     "output_type": "stream",
     "text": [
      "MSE Cross Validation Results\n",
      "Mean: 2.85E+7\n",
      "Std. Dev.: 3.92E+6\n",
      "\n",
      "R^2 Cross Validation Results\n",
      "Mean: -0.0649\n",
      "Std. Dev.: 0.0637\n"
     ]
    }
   ],
   "source": [
    "X_L2 = df['L2_speed_diff'].as_matrix()\n",
    "X_L2 = X_L2.reshape((len(X_L2), 1))\n",
    "\n",
    "cv_score_MSE = cross_val_score(lr, X=X_L2, y=y, scoring='neg_mean_squared_error', cv=5)\n",
    "print(\"MSE Cross Validation Results\\nMean: {:.2E}\\nStd. Dev.: {:.2E}\\n\".format(-Decimal(np.mean(cv_score_MSE)), \\\n",
    "                                                                               Decimal(np.std(cv_score_MSE))))\n",
    "\n",
    "cv_score_R2 = cross_val_score(lr, X=X_L2, y=y, cv=5)\n",
    "print(\"R^2 Cross Validation Results\\nMean: {:.3}\\nStd. Dev.: {:.3}\".format(np.mean(cv_score_R2), \\\n",
    "                                                                             np.std(cv_score_R2)))"
   ]
  },
  {
   "cell_type": "markdown",
   "metadata": {},
   "source": [
    "Once again, the MSE increased by nearly a factor of 3 over the 5k_split prediction. Also, the R^2 value is nearly useless. This can also be seen by graphing a scatter plot with L2_speed_diff and place. However, we know that, on average, L2_speed_diff is actually a decent indicator of the top finishers when averaged, as seen below:"
   ]
  },
  {
   "cell_type": "code",
   "execution_count": 78,
   "metadata": {},
   "outputs": [
    {
     "data": {
      "text/plain": [
       "[<matplotlib.lines.Line2D at 0x6469dd8>]"
      ]
     },
     "execution_count": 78,
     "metadata": {},
     "output_type": "execute_result"
    },
    {
     "data": {
      "image/png": "[encoded data removed]",
      "text/plain": [
       "<matplotlib.figure.Figure at 0xd109780>"
      ]
     },
     "metadata": {},
     "output_type": "display_data"
    }
   ],
   "source": [
    "def L2_speed_every_N(N=100):\n",
    "    return np.arange(1, 20000, N), [df[df['place'].between(n, n+N)]['L2_speed_diff'].mean() \\\n",
    "                                    for n in np.arange(1, 20000, N)]\n",
    "\n",
    "fig = plt.figure(figsize=(16, 10))\n",
    "x_plot, y_plot = L2_speed_every_N(100)\n",
    "\n",
    "plt.plot(x_plot, y_plot)"
   ]
  },
  {
   "cell_type": "markdown",
   "metadata": {},
   "source": [
    "In fact, we can do much better. If we normalize the L2 measure by their average speed, things look better. Again, the \"big picture\" view looks bad, but on average it's quite good."
   ]
  },
  {
   "cell_type": "code",
   "execution_count": 79,
   "metadata": {
    "collapsed": true
   },
   "outputs": [],
   "source": [
    "L2_vals = df['5k_split']*0 # Quickly create a series filled with zeros of the correct length\n",
    "\n",
    "for col in speed_cols:\n",
    "    L2_vals += np.square((df[col] / df['final_avg_speed']) - 1)\n",
    "    \n",
    "df['L2_speed_diff_ratio'] = L2_vals"
   ]
  },
  {
   "cell_type": "code",
   "execution_count": 80,
   "metadata": {},
   "outputs": [
    {
     "data": {
      "text/plain": [
       "[<matplotlib.lines.Line2D at 0x693d898>]"
      ]
     },
     "execution_count": 80,
     "metadata": {},
     "output_type": "execute_result"
    },
    {
     "data": {
      "image/png": "[encoded data removed]",
      "text/plain": [
       "<matplotlib.figure.Figure at 0x64bea58>"
      ]
     },
     "metadata": {},
     "output_type": "display_data"
    }
   ],
   "source": [
    "fig = plt.figure(figsize=(16, 10))\n",
    "plt.plot(df['L2_speed_diff_ratio'])"
   ]
  },
  {
   "cell_type": "code",
   "execution_count": 16,
   "metadata": {
    "collapsed": true
   },
   "outputs": [],
   "source": [
    "def L2_speed_ratio_every_N(N=100):\n",
    "    return np.arange(1, 20000, N), [df[df['place'].between(n, n+N)]['L2_speed_diff_ratio'].mean() \\\n",
    "                                    for n in np.arange(1, 20000, N)]"
   ]
  },
  {
   "cell_type": "code",
   "execution_count": 17,
   "metadata": {},
   "outputs": [
    {
     "data": {
      "text/plain": [
       "[<matplotlib.lines.Line2D at 0x10ee970b8>]"
      ]
     },
     "execution_count": 17,
     "metadata": {},
     "output_type": "execute_result"
    },
    {
     "data": {
      "image/png": "[encoded data removed]",
      "text/plain": [
       "<matplotlib.figure.Figure at 0x10edd6a90>"
      ]
     },
     "metadata": {},
     "output_type": "display_data"
    }
   ],
   "source": [
    "fig = plt.figure(figsize=(16, 10))\n",
    "x_plot, y_plot = L2_speed_ratio_every_N(100)\n",
    "\n",
    "plt.plot(x_plot, y_plot)"
   ]
  },
  {
   "cell_type": "markdown",
   "metadata": {},
   "source": [
    "Again we look at the CV scores. It's not fantastic predictor, but it's something."
   ]
  },
  {
   "cell_type": "code",
   "execution_count": 18,
   "metadata": {},
   "outputs": [
    {
     "name": "stdout",
     "output_type": "stream",
     "text": [
      "MSE Cross Validation Results\n",
      "Mean: 2.47E+7\n",
      "Std. Dev.: 4.45E+6\n",
      "\n",
      "R^2 Cross Validation Results\n",
      "Mean: 0.0808\n",
      "Std. Dev.: 0.0958\n"
     ]
    }
   ],
   "source": [
    "X_L2_ratio = df['L2_speed_diff_ratio'].as_matrix()\n",
    "X_L2_ratio = X_L2_ratio.reshape((len(X_L2_ratio), 1)) # 1-dimensional numpy arrays need to be reshaped when given as X\n",
    "\n",
    "cv_score_MSE = cross_val_score(lr, X=X_L2_ratio, y=y, scoring='neg_mean_squared_error', cv=5)\n",
    "print(\"MSE Cross Validation Results\\nMean: {:.2E}\\nStd. Dev.: {:.2E}\\n\".format(-Decimal(np.mean(cv_score_MSE)), \\\n",
    "                                                                               Decimal(np.std(cv_score_MSE))))\n",
    "\n",
    "cv_score_R2 = cross_val_score(lr, X=X_L2_ratio, y=y, cv=5)\n",
    "print(\"R^2 Cross Validation Results\\nMean: {:.3}\\nStd. Dev.: {:.3}\".format(np.mean(cv_score_R2), \\\n",
    "                                                                             np.std(cv_score_R2)))"
   ]
  },
  {
   "cell_type": "markdown",
   "metadata": {},
   "source": [
    "This gives an improvement in mean MSE, but also an increase in the standard deviation of MSE. Also, the R^2 becomes positive, as we would expect from it. However, the std. dev. of the R^2 also increases."
   ]
  },
  {
   "cell_type": "markdown",
   "metadata": {},
   "source": [
    "Next, let's compare 5k split vs 40k split. My guess is that this difference will correlate to how strong a runner they are, since stronger runs can maintain, or even improve their pace as the race continues, whereas weaker runners will tire. We'll compare the results using both the raw difference, and the difference as a percentage of their average speed."
   ]
  },
  {
   "cell_type": "code",
   "execution_count": 19,
   "metadata": {},
   "outputs": [
    {
     "name": "stdout",
     "output_type": "stream",
     "text": [
      "MSE Cross Validation Results\n",
      "Mean: 2.74E+7\n",
      "Std. Dev.: 4.10E+6\n",
      "\n",
      "R^2 Cross Validation Results\n",
      "Mean: -0.0208\n",
      "Std. Dev.: 0.0749\n"
     ]
    }
   ],
   "source": [
    "X_5k_minus_40k = df['5k_speed'] - df['40k_speed']\n",
    "X_5k_minus_40k = X_5k_minus_40k.as_matrix()\n",
    "X_5k_minus_40k = X_5k_minus_40k.reshape((len(X_5k_minus_40k), 1))\n",
    "\n",
    "cv_score_MSE = cross_val_score(lr, X=X_5k_minus_40k, y=y, scoring='neg_mean_squared_error', cv=5)\n",
    "print(\"MSE Cross Validation Results\\nMean: {:.2E}\\nStd. Dev.: {:.2E}\\n\".format(-Decimal(np.mean(cv_score_MSE)), \\\n",
    "                                                                               Decimal(np.std(cv_score_MSE))))\n",
    "\n",
    "cv_score_R2 = cross_val_score(lr, X=X_5k_minus_40k, y=y, cv=5)\n",
    "print(\"R^2 Cross Validation Results\\nMean: {:.3}\\nStd. Dev.: {:.3}\".format(np.mean(cv_score_R2), \\\n",
    "                                                                             np.std(cv_score_R2)))"
   ]
  },
  {
   "cell_type": "code",
   "execution_count": 20,
   "metadata": {},
   "outputs": [
    {
     "name": "stdout",
     "output_type": "stream",
     "text": [
      "MSE Cross Validation Results\n",
      "Mean: 2.26E+7\n",
      "Std. Dev.: 3.98E+6\n",
      "\n",
      "R^2 Cross Validation Results\n",
      "Mean: 0.159\n",
      "Std. Dev.: 0.0895\n"
     ]
    }
   ],
   "source": [
    "X_5k_minus_40k_ratio = (df['5k_speed'] - df['40k_speed'])/df['final_avg_speed']\n",
    "X_5k_minus_40k_ratio = X_5k_minus_40k_ratio.as_matrix()\n",
    "X_5k_minus_40k_ratio = X_5k_minus_40k_ratio.reshape((len(X_5k_minus_40k), 1))\n",
    "\n",
    "cv_score_MSE = cross_val_score(lr, X=X_5k_minus_40k_ratio, y=y, scoring='neg_mean_squared_error', cv=5)\n",
    "print(\"MSE Cross Validation Results\\nMean: {:.2E}\\nStd. Dev.: {:.2E}\\n\".format(-Decimal(np.mean(cv_score_MSE)), \\\n",
    "                                                                               Decimal(np.std(cv_score_MSE))))\n",
    "\n",
    "cv_score_R2 = cross_val_score(lr, X=X_5k_minus_40k_ratio, y=y, cv=5)\n",
    "print(\"R^2 Cross Validation Results\\nMean: {:.3}\\nStd. Dev.: {:.3}\".format(np.mean(cv_score_R2), \\\n",
    "                                                                             np.std(cv_score_R2)))"
   ]
  },
  {
   "cell_type": "markdown",
   "metadata": {},
   "source": [
    "Once again, expressing things as percentages of final speed seems to be good."
   ]
  },
  {
   "cell_type": "markdown",
   "metadata": {},
   "source": [
    "One last feature we can consider before combining them is how fast they run in the 30k to 35k split. This is chosen because in the marathon this was slightly uphill. Thus you would expect weaker runs to really struggle here, especially since it's so late in the race. We'll include this simply as a ratio of the average speed."
   ]
  },
  {
   "cell_type": "code",
   "execution_count": 21,
   "metadata": {},
   "outputs": [
    {
     "name": "stdout",
     "output_type": "stream",
     "text": [
      "MSE Cross Validation Results\n",
      "Mean: 2.85E+7\n",
      "Std. Dev.: 3.43E+6\n",
      "\n",
      "R^2 Cross Validation Results\n",
      "Mean: -0.0668\n",
      "Std. Dev.: 0.0498\n"
     ]
    }
   ],
   "source": [
    "X_30k_minus_35k_ratio = (df['35k_speed'] - df['30k_speed']) / df['final_avg_speed']\n",
    "X_30k_minus_35k_ratio = X_30k_minus_35k_ratio.as_matrix()\n",
    "X_30k_minus_35k_ratio = X_30k_minus_35k_ratio.reshape((len(X_5k_minus_40k), 1))\n",
    "\n",
    "cv_score_MSE = cross_val_score(lr, X=X_30k_minus_35k_ratio, y=y, scoring='neg_mean_squared_error', cv=5)\n",
    "print(\"MSE Cross Validation Results\\nMean: {:.2E}\\nStd. Dev.: {:.2E}\\n\".format(-Decimal(np.mean(cv_score_MSE)), \\\n",
    "                                                                               Decimal(np.std(cv_score_MSE))))\n",
    "\n",
    "cv_score_R2 = cross_val_score(lr, X=X_30k_minus_35k_ratio, y=y, cv=5)\n",
    "print(\"R^2 Cross Validation Results\\nMean: {:.3}\\nStd. Dev.: {:.3}\".format(np.mean(cv_score_R2), \\\n",
    "                                                                             np.std(cv_score_R2)))"
   ]
  },
  {
   "cell_type": "markdown",
   "metadata": {},
   "source": [
    "Now, let's combine all of these engineered features and use them together."
   ]
  },
  {
   "cell_type": "code",
   "execution_count": 22,
   "metadata": {},
   "outputs": [
    {
     "name": "stdout",
     "output_type": "stream",
     "text": [
      "MSE Cross Validation Results\n",
      "Mean: 2.16E+7\n",
      "Std. Dev.: 3.69E+6\n",
      "\n",
      "R^2 Cross Validation Results\n",
      "Mean: 0.195\n",
      "Std. Dev.: 0.0804\n"
     ]
    }
   ],
   "source": [
    "X_combined = np.concatenate((X_L2_ratio, X_5k_minus_40k_ratio, X_30k_minus_35k_ratio), axis=1)\n",
    "\n",
    "cv_score_MSE = cross_val_score(lr, X=X_combined, y=y, scoring='neg_mean_squared_error', cv=5)\n",
    "print(\"MSE Cross Validation Results\\nMean: {:.2E}\\nStd. Dev.: {:.2E}\\n\".format(-Decimal(np.mean(cv_score_MSE)), \\\n",
    "                                                                               Decimal(np.std(cv_score_MSE))))\n",
    "\n",
    "cv_score_R2 = cross_val_score(lr, X=X_combined, y=y, cv=5)\n",
    "print(\"R^2 Cross Validation Results\\nMean: {:.3}\\nStd. Dev.: {:.3}\".format(np.mean(cv_score_R2), \\\n",
    "                                                                             np.std(cv_score_R2)))"
   ]
  },
  {
   "cell_type": "markdown",
   "metadata": {},
   "source": [
    "While this is not fantastic, it still is the best MSE I've achieved. It's roughly a factor of 2 worse than simply using the 5k split alone.\n",
    "\n",
    "Next, let's try plugging this into a decision tree regressor, along with the age."
   ]
  },
  {
   "cell_type": "code",
   "execution_count": 23,
   "metadata": {
    "collapsed": true
   },
   "outputs": [],
   "source": [
    "from sklearn.tree import DecisionTreeRegressor"
   ]
  },
  {
   "cell_type": "code",
   "execution_count": 24,
   "metadata": {},
   "outputs": [
    {
     "name": "stdout",
     "output_type": "stream",
     "text": [
      "MSE Cross Validation Results\n",
      "Mean: 5.03E+7\n",
      "Std. Dev.: 1.45E+7\n",
      "\n"
     ]
    }
   ],
   "source": [
    "X_age = df['age'].as_matrix().reshape((len(df['age']), 1))\n",
    "X_combined_age = np.concatenate((X_combined, X_age), axis=1)\n",
    "\n",
    "reg = DecisionTreeRegressor()\n",
    "\n",
    "cv_score_MSE = cross_val_score(reg, X=X_combined_age, y=y, scoring='neg_mean_squared_error', cv=5)\n",
    "print(\"MSE Cross Validation Results\\nMean: {:.2E}\\nStd. Dev.: {:.2E}\\n\".format(-Decimal(np.mean(cv_score_MSE)), \\\n",
    "                                                                               Decimal(np.std(cv_score_MSE))))"
   ]
  },
  {
   "cell_type": "markdown",
   "metadata": {},
   "source": [
    "Let's do it again, but with a grid search with CV to determine the best hyperparameters for the tree."
   ]
  },
  {
   "cell_type": "code",
   "execution_count": 25,
   "metadata": {
    "collapsed": true
   },
   "outputs": [],
   "source": [
    "from sklearn.model_selection import GridSearchCV"
   ]
  },
  {
   "cell_type": "code",
   "execution_count": 26,
   "metadata": {},
   "outputs": [
    {
     "data": {
      "text/plain": [
       "GridSearchCV(cv=5, error_score='raise',\n",
       "       estimator=DecisionTreeRegressor(criterion='mse', max_depth=None, max_features=None,\n",
       "           max_leaf_nodes=None, min_impurity_split=1e-07,\n",
       "           min_samples_leaf=1, min_samples_split=2,\n",
       "           min_weight_fraction_leaf=0.0, presort=False, random_state=None,\n",
       "           splitter='best'),\n",
       "       fit_params={}, iid=True, n_jobs=1,\n",
       "       param_grid=[{'min_samples_split': [2, 3, 4, 5], 'max_depth': [2, 3, 4, 5, 6, 7, 8, 9, 10], 'min_samples_leaf': [100, 150, 200, 250, 300, 350, 400, 450, 500]}],\n",
       "       pre_dispatch='2*n_jobs', refit=True, return_train_score=True,\n",
       "       scoring='neg_mean_squared_error', verbose=0)"
      ]
     },
     "execution_count": 26,
     "metadata": {},
     "output_type": "execute_result"
    }
   ],
   "source": [
    "param_grid = [\n",
    "    {'max_depth': [2, 3, 4, 5, 6, 7, 8, 9, 10],\n",
    "    'min_samples_split': [2, 3, 4, 5],\n",
    "    'min_samples_leaf': [100, 150, 200, 250, 300, 350, 400, 450, 500]}\n",
    "]\n",
    "\n",
    "reg = GridSearchCV(reg, cv=5, param_grid=param_grid, scoring='neg_mean_squared_error')\n",
    "\n",
    "reg.fit(X_combined_age, y)"
   ]
  },
  {
   "cell_type": "code",
   "execution_count": 27,
   "metadata": {},
   "outputs": [
    {
     "name": "stdout",
     "output_type": "stream",
     "text": [
      "Best parameters set found on development set:\n",
      "\n",
      "{'min_samples_split': 2, 'max_depth': 4, 'min_samples_leaf': 300}\n"
     ]
    }
   ],
   "source": [
    "print(\"Best parameters set found on development set:\")\n",
    "print()\n",
    "print(reg.best_params_)"
   ]
  },
  {
   "cell_type": "code",
   "execution_count": 28,
   "metadata": {
    "collapsed": true
   },
   "outputs": [],
   "source": [
    "max_depth, min_samples_leaf, min_samples_split = \\\n",
    "        reg.best_params_['max_depth'], reg.best_params_['min_samples_leaf'], reg.best_params_['min_samples_split']"
   ]
  },
  {
   "cell_type": "code",
   "execution_count": 29,
   "metadata": {},
   "outputs": [
    {
     "name": "stdout",
     "output_type": "stream",
     "text": [
      "MSE Cross Validation Results\n",
      "Mean: 2.01E+7\n",
      "Std. Dev.: 3.81E+6\n",
      "\n"
     ]
    }
   ],
   "source": [
    "reg = DecisionTreeRegressor(max_depth=max_depth, min_samples_leaf=min_samples_leaf, min_samples_split=min_samples_split)\n",
    "\n",
    "cv_score_MSE = cross_val_score(reg, X=X_combined_age, y=y, scoring='neg_mean_squared_error', cv=5)\n",
    "print(\"MSE Cross Validation Results\\nMean: {:.2E}\\nStd. Dev.: {:.2E}\\n\".format(-Decimal(np.mean(cv_score_MSE)), \\\n",
    "                                                                               Decimal(np.std(cv_score_MSE))))"
   ]
  },
  {
   "cell_type": "markdown",
   "metadata": {},
   "source": [
    "So this gives a slight improvement over the linear model, and we are now just barely below the cusp of being a factor of two above the 5k_split MSE. Improvement! Let's try this all again, but using hte random forest regressor."
   ]
  },
  {
   "cell_type": "code",
   "execution_count": 30,
   "metadata": {
    "collapsed": true
   },
   "outputs": [],
   "source": [
    "from sklearn.ensemble import RandomForestRegressor"
   ]
  },
  {
   "cell_type": "code",
   "execution_count": 31,
   "metadata": {},
   "outputs": [
    {
     "name": "stdout",
     "output_type": "stream",
     "text": [
      "Best parameters set found on development set:\n",
      "\n",
      "{'min_samples_split': 2, 'max_depth': 5, 'min_samples_leaf': 150}\n",
      "\n",
      "MSE Cross Validation Results\n",
      "Mean: 2.00E+7\n",
      "Std. Dev.: 3.68E+6\n",
      "\n"
     ]
    }
   ],
   "source": [
    "reg = RandomForestRegressor()\n",
    "\n",
    "param_grid = [\n",
    "    {'max_depth': [2, 3, 4, 5, 6, 7, 8, 9, 10],\n",
    "    'min_samples_split': [2, 3, 4, 5],\n",
    "    'min_samples_leaf': [100, 150, 200, 250, 300, 350, 400, 450, 500]}\n",
    "]\n",
    "\n",
    "reg = GridSearchCV(reg, cv=5, param_grid=param_grid, scoring='neg_mean_squared_error')\n",
    "\n",
    "reg.fit(X_combined_age, y)\n",
    "\n",
    "print(\"Best parameters set found on development set:\")\n",
    "print()\n",
    "print(reg.best_params_)\n",
    "print()\n",
    "\n",
    "max_depth, min_samples_leaf, min_samples_split = \\\n",
    "        reg.best_params_['max_depth'], reg.best_params_['min_samples_leaf'], \\\n",
    "        reg.best_params_['min_samples_split']\n",
    "\n",
    "reg = RandomForestRegressor(max_depth=max_depth, min_samples_leaf=min_samples_leaf, \\\n",
    "                            min_samples_split=min_samples_split)\n",
    "        \n",
    "cv_score_MSE = cross_val_score(reg, X=X_combined_age, y=y, scoring='neg_mean_squared_error', cv=5)\n",
    "print(\"MSE Cross Validation Results\\nMean: {:.2E}\\nStd. Dev.: {:.2E}\\n\".format(-Decimal(np.mean(cv_score_MSE)), \\\n",
    "                                                                               Decimal(np.std(cv_score_MSE))))"
   ]
  },
  {
   "cell_type": "markdown",
   "metadata": {},
   "source": [
    "So again, this gives a (very slight) improvement. It seems clear though that if we want to reduce the MSE by a factor of two, new features need to be engineered."
   ]
  },
  {
   "cell_type": "markdown",
   "metadata": {},
   "source": [
    "Let's try throwing the kitchen sink at the Random Forest. Namely, we'll include the speed variation between each of the 5k recordings (so 0 to 5k 5k to 10k, etc.) and just see how it does."
   ]
  },
  {
   "cell_type": "code",
   "execution_count": 81,
   "metadata": {
    "collapsed": true
   },
   "outputs": [],
   "source": [
    "df['5k_to_10k_L2_ratio'] = np.square( (df['10k_speed'] - df['5k_speed']) / df['final_avg_speed'] )\n",
    "df['10k_to_15k_L2_ratio'] = np.square( (df['15k_speed'] - df['10k_speed']) / df['final_avg_speed'] )\n",
    "df['15k_to_20k_L2_ratio'] = np.square( (df['20k_speed'] - df['15k_speed']) / df['final_avg_speed'] )\n",
    "df['20k_to_25k_L2_ratio'] = np.square( (df['25k_speed'] - df['20k_speed']) / df['final_avg_speed'] )\n",
    "df['25k_to_30k_L2_ratio'] = np.square( (df['30k_speed'] - df['25k_speed']) / df['final_avg_speed'] )\n",
    "df['30k_to_35k_L2_ratio'] = np.square( (df['35k_speed'] - df['30k_speed']) / df['final_avg_speed'] )\n",
    "df['35k_to_40k_L2_ratio'] = np.square( (df['40k_speed'] - df['35k_speed']) / df['final_avg_speed'] )"
   ]
  },
  {
   "cell_type": "code",
   "execution_count": 33,
   "metadata": {
    "collapsed": true
   },
   "outputs": [],
   "source": [
    "X_kitchen_sink = df[['5k_to_10k_L2_ratio', '10k_to_15k_L2_ratio', '15k_to_20k_L2_ratio', \\\n",
    "                    '20k_to_25k_L2_ratio', '25k_to_30k_L2_ratio', '30k_to_35k_L2_ratio', '35k_to_40k_L2_ratio', \\\n",
    "                    'L2_speed_diff_ratio']].as_matrix()"
   ]
  },
  {
   "cell_type": "code",
   "execution_count": 34,
   "metadata": {},
   "outputs": [
    {
     "name": "stdout",
     "output_type": "stream",
     "text": [
      "Best parameters set found on development set:\n",
      "\n",
      "{'min_samples_split': 3, 'max_depth': 8, 'min_samples_leaf': 100}\n",
      "\n",
      "MSE Cross Validation Results\n",
      "Mean: 1.52E+7\n",
      "Std. Dev.: 3.44E+6\n",
      "\n"
     ]
    }
   ],
   "source": [
    "reg = RandomForestRegressor()\n",
    "\n",
    "param_grid = [\n",
    "    {'max_depth': [2, 3, 4, 5, 6, 7, 8, 9, 10],\n",
    "    'min_samples_split': [2, 3, 4, 5],\n",
    "    'min_samples_leaf': [100, 150, 200, 250, 300, 350, 400, 450, 500]}\n",
    "]\n",
    "\n",
    "reg = GridSearchCV(reg, cv=5, param_grid=param_grid, scoring='neg_mean_squared_error')\n",
    "\n",
    "reg.fit(X_kitchen_sink, y)\n",
    "\n",
    "print(\"Best parameters set found on development set:\")\n",
    "print()\n",
    "print(reg.best_params_)\n",
    "print()\n",
    "\n",
    "max_depth, min_samples_leaf, min_samples_split = \\\n",
    "        reg.best_params_['max_depth'], reg.best_params_['min_samples_leaf'], \\\n",
    "        reg.best_params_['min_samples_split']\n",
    "\n",
    "reg = RandomForestRegressor(max_depth=max_depth, min_samples_leaf=min_samples_leaf, \\\n",
    "                            min_samples_split=min_samples_split)\n",
    "        \n",
    "cv_score_MSE = cross_val_score(reg, X=X_kitchen_sink, y=y, scoring='neg_mean_squared_error', cv=5)\n",
    "print(\"MSE Cross Validation Results\\nMean: {:.2E}\\nStd. Dev.: {:.2E}\\n\".format(-Decimal(np.mean(cv_score_MSE)), \\\n",
    "                                                                               Decimal(np.std(cv_score_MSE))))"
   ]
  },
  {
   "cell_type": "markdown",
   "metadata": {},
   "source": [
    "That's quite an improvement! We're now only at 50% worse than simply using 5k split. Let's next try a gradient boosted regressor just to see how it turns out."
   ]
  },
  {
   "cell_type": "code",
   "execution_count": 37,
   "metadata": {
    "collapsed": true
   },
   "outputs": [],
   "source": [
    "from sklearn.ensemble import GradientBoostingRegressor"
   ]
  },
  {
   "cell_type": "markdown",
   "metadata": {},
   "source": [
    "param_grid = [\n",
    "    {'max_depth': [2, 3, 4, 5, 6, 7, 8, 9, 10],\n",
    "    'min_samples_split': [2, 3, 4, 5],\n",
    "    'min_samples_leaf': [100, 150, 200, 250, 300, 350, 400, 450, 500]}\n",
    "]\n",
    "\n",
    "GBreg = GradientBoostingRegressor()\n",
    "\n",
    "GBreg = GridSearchCV(GBreg, cv=5, param_grid=param_grid, scoring='neg_mean_squared_error')\n",
    "\n",
    "GBreg.fit(X_kitchen_sink, y)\n",
    "\n",
    "print(\"Best parameters set found on development set:\")\n",
    "print()\n",
    "print(GBreg.best_params_)\n",
    "print()\n",
    "\n",
    "max_depth, min_samples_leaf, min_samples_split = \\\n",
    "        GBreg.best_params_['max_depth'], GBreg.best_params_['min_samples_leaf'], \\\n",
    "        GBreg.best_params_['min_samples_split']\n",
    "\n",
    "reg = RandomForestRegressor(max_depth=max_depth, min_samples_leaf=min_samples_leaf, \\\n",
    "                            min_samples_split=min_samples_split)\n",
    "        \n",
    "cv_score_MSE = cross_val_score(GBreg, X=X_kitchen_sink, y=y, scoring='neg_mean_squared_error', cv=5)\n",
    "print(\"MSE Cross Validation Results\\nMean: {:.2E}\\nStd. Dev.: {:.2E}\\n\".format(-Decimal(np.mean(cv_score_MSE)), \\\n",
    "                                                                               Decimal(np.std(cv_score_MSE))))"
   ]
  },
  {
   "cell_type": "markdown",
   "metadata": {},
   "source": [
    "max_depth, min_samples_leaf, min_samples_split = \\\n",
    "        GBreg.best_params_['max_depth'], GBreg.best_params_['min_samples_leaf'], \\\n",
    "        GBreg.best_params_['min_samples_split']\n",
    "\n",
    "reg = RandomForestRegressor(max_depth=max_depth, min_samples_leaf=min_samples_leaf, \\\n",
    "                            min_samples_split=min_samples_split)\n",
    "        \n",
    "cv_score_MSE = cross_val_score(GBreg, X=X_kitchen_sink, y=y, scoring='neg_mean_squared_error', cv=5)\n",
    "print(\"MSE Cross Validation Results\\nMean: {:.2E}\\nStd. Dev.: {:.2E}\\n\".format(-Decimal(np.mean(cv_score_MSE)), \\\n",
    "                                                                               Decimal(np.std(cv_score_MSE))))"
   ]
  },
  {
   "cell_type": "markdown",
   "metadata": {},
   "source": [
    "So it looks like switching to gradient boosting gives a slight improvement over a straight-forward random forest. However, the run time is also much, much longer. Thus it should only be used when I'm right at/over the threshold I'm aiming over."
   ]
  },
  {
   "cell_type": "markdown",
   "metadata": {},
   "source": [
    "Let's try some more feature engineering to try and close this gap. We'll count the number of splits which are above and below their 5k speed. The idea being that slower runners should have essentially all splits slower than 5k, but elite runners might be better at holding that pace."
   ]
  },
  {
   "cell_type": "code",
   "execution_count": 38,
   "metadata": {
    "collapsed": true
   },
   "outputs": [],
   "source": [
    "split_comp_to_5k = df['5k_speed'] * 0\n",
    "for col in speed_cols:\n",
    "    split_comp_to_5k += sum(df[col] - df['5k_speed'])\n",
    "    \n",
    "X_split_comp_to_5k = split_comp_to_5k.as_matrix().reshape((10391,1))"
   ]
  },
  {
   "cell_type": "code",
   "execution_count": 39,
   "metadata": {
    "collapsed": true
   },
   "outputs": [],
   "source": [
    "X_kitchen_sink_2 = np.concatenate((X_kitchen_sink, X_split_comp_to_5k), axis=1)"
   ]
  },
  {
   "cell_type": "code",
   "execution_count": 40,
   "metadata": {},
   "outputs": [
    {
     "name": "stdout",
     "output_type": "stream",
     "text": [
      "MSE Cross Validation Results\n",
      "Mean: 1.52E+7\n",
      "Std. Dev.: 3.37E+6\n",
      "\n"
     ]
    }
   ],
   "source": [
    "reg = RandomForestRegressor(max_depth=10, min_samples_leaf=100, \\\n",
    "                            min_samples_split=4)\n",
    "        \n",
    "cv_score_MSE = cross_val_score(reg, X=X_kitchen_sink_2, y=y, scoring='neg_mean_squared_error', cv=5)\n",
    "print(\"MSE Cross Validation Results\\nMean: {:.2E}\\nStd. Dev.: {:.2E}\\n\".format(-Decimal(np.mean(cv_score_MSE)), \\\n",
    "                                                                               Decimal(np.std(cv_score_MSE))))"
   ]
  },
  {
   "cell_type": "markdown",
   "metadata": {},
   "source": [
    "No improvement, so we'll ditch that feature."
   ]
  },
  {
   "cell_type": "code",
   "execution_count": 41,
   "metadata": {},
   "outputs": [
    {
     "data": {
      "text/plain": [
       "[<matplotlib.lines.Line2D at 0x10ea5c860>]"
      ]
     },
     "execution_count": 41,
     "metadata": {},
     "output_type": "execute_result"
    },
    {
     "data": {
      "image/png": "[encoded data removed]",
      "text/plain": [
       "<matplotlib.figure.Figure at 0x102981b38>"
      ]
     },
     "metadata": {},
     "output_type": "display_data"
    }
   ],
   "source": [
    "def L2_speed_ratio_every_N(N=100):\n",
    "    vals = [np.square((df[df['place'].between(n, n+N)]['40k_speed'] - df[df['place'].between(n, n+N)]['5k_speed'])/df['final_avg_speed']).mean() \\\n",
    "             for n in np.arange(1, 20000, N)]\n",
    "    return np.arange(1, 20000, N), vals\n",
    "\n",
    "fig = plt.figure(figsize=(16, 10))\n",
    "x_plot, y_plot = L2_speed_ratio_every_N(50)\n",
    "\n",
    "plt.plot(x_plot, y_plot)"
   ]
  },
  {
   "cell_type": "code",
   "execution_count": 82,
   "metadata": {
    "collapsed": true
   },
   "outputs": [],
   "source": [
    "df['5k_to_10k_diff_ratio'] = (df['10k_speed'] - df['5k_speed']) / np.square(df['final_avg_speed'])\n",
    "df['10k_to_15k_diff_ratio'] = (df['15k_speed'] - df['10k_speed']) / np.square(df['final_avg_speed'] )\n",
    "df['15k_to_20k_diff_ratio'] = (df['20k_speed'] - df['15k_speed']) / np.square(df['final_avg_speed'] )\n",
    "df['20k_to_25k_diff_ratio'] = (df['25k_speed'] - df['20k_speed']) / np.square(df['final_avg_speed'])\n",
    "df['25k_to_30k_diff_ratio'] = (df['30k_speed'] - df['25k_speed']) / np.square(df['final_avg_speed'] )\n",
    "df['30k_to_35k_diff_ratio'] = (df['35k_speed'] - df['30k_speed']) / np.square(df['final_avg_speed'] )\n",
    "df['35k_to_40k_diff_ratio'] = (df['40k_speed'] - df['35k_speed']) / np.square(df['final_avg_speed'] )"
   ]
  },
  {
   "cell_type": "markdown",
   "metadata": {},
   "source": [
    "Let's also try adding in the 40k to 5k difference ratio"
   ]
  },
  {
   "cell_type": "code",
   "execution_count": 83,
   "metadata": {
    "collapsed": true
   },
   "outputs": [],
   "source": [
    "df['5k_to_40k_diff_ratio'] = (df['40k_speed'] - df['5k_speed']) / np.square(df['final_avg_speed'] )"
   ]
  },
  {
   "cell_type": "code",
   "execution_count": 43,
   "metadata": {
    "collapsed": true
   },
   "outputs": [],
   "source": [
    "X_kitchen_sink2 = df[['5k_to_10k_diff_ratio', '10k_to_15k_diff_ratio', '15k_to_20k_diff_ratio', \\\n",
    "                    '20k_to_25k_diff_ratio', '25k_to_30k_diff_ratio', '30k_to_35k_diff_ratio', '35k_to_40k_diff_ratio', \\\n",
    "                    'L2_speed_diff_ratio']].as_matrix()"
   ]
  },
  {
   "cell_type": "code",
   "execution_count": 44,
   "metadata": {},
   "outputs": [
    {
     "name": "stdout",
     "output_type": "stream",
     "text": [
      "Best parameters set found on development set:\n",
      "\n",
      "{'min_samples_split': 5, 'max_depth': 14, 'min_samples_leaf': 25}\n",
      "\n",
      "MSE Cross Validation Results\n",
      "Mean: 8.74E+6\n",
      "Std. Dev.: 2.10E+6\n",
      "\n"
     ]
    }
   ],
   "source": [
    "reg = RandomForestRegressor()\n",
    "\n",
    "param_grid = [\n",
    "    {'max_depth': [10, 11, 12, 13, 14, 15],\n",
    "    'min_samples_split': [2, 3, 4, 5, 6],\n",
    "    'min_samples_leaf': [25, 50, 75, 100, 150, 200, 250, 300]}\n",
    "]\n",
    "\n",
    "reg = GridSearchCV(reg, cv=5, param_grid=param_grid, scoring='neg_mean_squared_error')\n",
    "\n",
    "reg.fit(X_kitchen_sink2, y)\n",
    "\n",
    "print(\"Best parameters set found on development set:\")\n",
    "print()\n",
    "print(reg.best_params_)\n",
    "print()\n",
    "\n",
    "max_depth, min_samples_leaf, min_samples_split = \\\n",
    "        reg.best_params_['max_depth'], reg.best_params_['min_samples_leaf'], \\\n",
    "        reg.best_params_['min_samples_split']\n",
    "\n",
    "reg = RandomForestRegressor(max_depth=max_depth, min_samples_leaf=min_samples_leaf, \\\n",
    "                            min_samples_split=min_samples_split)\n",
    "        \n",
    "cv_score_MSE = cross_val_score(reg, X=X_kitchen_sink2, y=y, scoring='neg_mean_squared_error', cv=5)\n",
    "print(\"MSE Cross Validation Results\\nMean: {:.2E}\\nStd. Dev.: {:.2E}\\n\".format(-Decimal(np.mean(cv_score_MSE)), \\\n",
    "                                                                               Decimal(np.std(cv_score_MSE))))"
   ]
  },
  {
   "cell_type": "code",
   "execution_count": 45,
   "metadata": {},
   "outputs": [
    {
     "name": "stdout",
     "output_type": "stream",
     "text": [
      "Feature ranking:\n",
      "1. feature 0 (0.488561)\n",
      "2. feature 2 (0.203490)\n",
      "3. feature 3 (0.131538)\n",
      "4. feature 1 (0.091434)\n",
      "5. feature 4 (0.032678)\n",
      "6. feature 7 (0.026066)\n",
      "7. feature 5 (0.016389)\n",
      "8. feature 6 (0.009844)\n"
     ]
    },
    {
     "data": {
      "image/png": "[encoded data removed]",
      "text/plain": [
       "<matplotlib.figure.Figure at 0x10eb03cc0>"
      ]
     },
     "metadata": {},
     "output_type": "display_data"
    }
   ],
   "source": [
    "reg.fit(X_kitchen_sink2, y)\n",
    "importances = reg.feature_importances_\n",
    "std = np.std([tree.feature_importances_ for tree in reg.estimators_],\n",
    "             axis=0)\n",
    "indices = np.argsort(importances)[::-1]\n",
    "\n",
    "# Print the feature ranking\n",
    "print(\"Feature ranking:\")\n",
    "\n",
    "for f in range(X_kitchen_sink2.shape[1]):\n",
    "    print(\"%d. feature %d (%f)\" % (f + 1, indices[f], importances[indices[f]]))\n",
    "\n",
    "# Plot the feature importances of the forest\n",
    "plt.figure()\n",
    "plt.title(\"Feature importances\")\n",
    "plt.bar(range(X_kitchen_sink2.shape[1]), importances[indices],\n",
    "       color=\"r\", yerr=std[indices], align=\"center\")\n",
    "plt.xticks(range(X_kitchen_sink2.shape[1]), indices)\n",
    "plt.xlim([-1, X_kitchen_sink2.shape[1]])\n",
    "plt.show()"
   ]
  },
  {
   "cell_type": "markdown",
   "metadata": {},
   "source": [
    "from sklearn import tree\n",
    "import graphviz\n",
    "\n",
    "feature_names = ['5k_to_10k_diff_ratio', '10k_to_15k_diff_ratio', '15k_to_20k_diff_ratio', \\\n",
    "                    '20k_to_25k_diff_ratio', '25k_to_30k_diff_ratio', '30k_to_35k_diff_ratio', '35k_to_40k_diff_ratio', \\\n",
    "                    'L2_speed_diff_ratio']\n",
    "\n",
    "dot_data = tree.export_graphviz(reg, out_file=None, \n",
    "                         feature_names=feature_names,   \n",
    "                         filled=True, rounded=True,  \n",
    "                         special_characters=True) \n",
    "graph = graphviz.Source(dot_data) \n",
    "graph"
   ]
  },
  {
   "cell_type": "markdown",
   "metadata": {},
   "source": [
    "Now that we have beaten our benchmark on the development side, let's do a real test and see! We'll use the 2016 mens results for a comparison, compute the \"benchmark\" for that (linear model based on 5k_split), and regress placing using the random forest regressor with the parameters given by the grid search from the 2017 data. Fingers crossed!"
   ]
  },
  {
   "cell_type": "code",
   "execution_count": 4,
   "metadata": {},
   "outputs": [],
   "source": [
    "df2016 = pd.read_csv('data/2016/mens_speed.csv')"
   ]
  },
  {
   "cell_type": "code",
   "execution_count": 5,
   "metadata": {},
   "outputs": [
    {
     "data": {
      "text/plain": [
       "10371"
      ]
     },
     "execution_count": 5,
     "metadata": {},
     "output_type": "execute_result"
    }
   ],
   "source": [
    "len(df2016)"
   ]
  },
  {
   "cell_type": "code",
   "execution_count": 47,
   "metadata": {
    "collapsed": true
   },
   "outputs": [],
   "source": [
    "lr = LinearRegression()"
   ]
  },
  {
   "cell_type": "code",
   "execution_count": 48,
   "metadata": {},
   "outputs": [
    {
     "name": "stdout",
     "output_type": "stream",
     "text": [
      "2016 MSE Cross Validation Results\n",
      "Mean: 1.13E+7\n",
      "Std. Dev.: 2.05E+6\n",
      "\n",
      "2016 R^2 Cross Validation Results\n",
      "Mean: 0.648\n",
      "Std. Dev.: 0.0751\n"
     ]
    }
   ],
   "source": [
    "X_5k = df2016['5k_split'].as_matrix()\n",
    "X_5k = X_5k.reshape((len(X_5k), 1))\n",
    "y2016 = df2016['place'].as_matrix()\n",
    "\n",
    "cv_score_MSE = cross_val_score(lr, X=X_5k, y=y2016, scoring='neg_mean_squared_error', cv=5)\n",
    "print(\"2016 MSE Cross Validation Results\\nMean: {:.2E}\\nStd. Dev.: {:.2E}\\n\".format(-Decimal(np.mean(cv_score_MSE)), \\\n",
    "                                                                               Decimal(np.std(cv_score_MSE))))\n",
    "\n",
    "cv_score_R2 = cross_val_score(lr, X=X_5k, y=y2016, cv=5)\n",
    "print(\"2016 R^2 Cross Validation Results\\nMean: {:.3}\\nStd. Dev.: {:.3}\".format(np.mean(cv_score_R2), \\\n",
    "                                                                             np.std(cv_score_R2)))"
   ]
  },
  {
   "cell_type": "code",
   "execution_count": 49,
   "metadata": {
    "collapsed": true
   },
   "outputs": [],
   "source": [
    "df2016['5k_to_10k_diff_ratio'] = (df2016['10k_speed'] - df2016['5k_speed']) / np.square(df2016['final_avg_speed'])\n",
    "df2016['10k_to_15k_diff_ratio'] = (df2016['15k_speed'] - df2016['10k_speed']) / np.square(df2016['final_avg_speed'] )\n",
    "df2016['15k_to_20k_diff_ratio'] = (df2016['20k_speed'] - df2016['15k_speed']) / np.square(df2016['final_avg_speed'] )\n",
    "df2016['20k_to_25k_diff_ratio'] = (df2016['25k_speed'] - df2016['20k_speed']) / np.square(df2016['final_avg_speed'])\n",
    "df2016['25k_to_30k_diff_ratio'] = (df2016['30k_speed'] - df2016['25k_speed']) / np.square(df2016['final_avg_speed'] )\n",
    "df2016['30k_to_35k_diff_ratio'] = (df2016['35k_speed'] - df2016['30k_speed']) / np.square(df2016['final_avg_speed'] )\n",
    "df2016['35k_to_40k_diff_ratio'] = (df2016['40k_speed'] - df2016['35k_speed']) / np.square(df2016['final_avg_speed'] )"
   ]
  },
  {
   "cell_type": "code",
   "execution_count": 88,
   "metadata": {
    "collapsed": true
   },
   "outputs": [],
   "source": [
    "df2016['5k_to_40k_diff_ratio'] = (df['40k_speed'] - df['5k_speed']) / np.square(df['final_avg_speed'] )"
   ]
  },
  {
   "cell_type": "code",
   "execution_count": 50,
   "metadata": {
    "collapsed": true
   },
   "outputs": [],
   "source": [
    "L2_vals = df2016['5k_split']*0 # Quickly create a series filled with zeros of the correct length\n",
    "\n",
    "for col in speed_cols:\n",
    "    L2_vals += np.square((df[col] / df2016['final_avg_speed']) - 1)\n",
    "    \n",
    "df2016['L2_speed_diff_ratio'] = L2_vals"
   ]
  },
  {
   "cell_type": "code",
   "execution_count": 67,
   "metadata": {
    "collapsed": true
   },
   "outputs": [],
   "source": [
    "X_2016 = df2016[['5k_to_10k_diff_ratio', '10k_to_15k_diff_ratio', '15k_to_20k_diff_ratio', \\\n",
    "                    '20k_to_25k_diff_ratio', '25k_to_30k_diff_ratio', '30k_to_35k_diff_ratio', '35k_to_40k_diff_ratio', \\\n",
    "                    'L2_speed_diff_ratio']].as_matrix()\n",
    "\n",
    "reg = RandomForestRegressor(max_depth=14, min_samples_leaf=25, \\\n",
    "                            min_samples_split=50)\n",
    "\n",
    "reg.fit(X_kitchen_sink2, y)\n",
    "\n",
    "y_hat = reg.predict(X_2016)"
   ]
  },
  {
   "cell_type": "code",
   "execution_count": 68,
   "metadata": {},
   "outputs": [
    {
     "name": "stdout",
     "output_type": "stream",
     "text": [
      "2016 Random Forest Regressor:\n",
      "MSE: 1.24E+7\n"
     ]
    }
   ],
   "source": [
    "from sklearn.metrics import mean_squared_error\n",
    "\n",
    "print('2016 Random Forest Regressor:\\nMSE: {:.2E}'.format(Decimal(mean_squared_error(y2016, y_hat))))"
   ]
  },
  {
   "cell_type": "markdown",
   "metadata": {},
   "source": [
    "So close! Let's train the gradient boosted forest to gain a few percent improvement."
   ]
  },
  {
   "cell_type": "code",
   "execution_count": 53,
   "metadata": {},
   "outputs": [
    {
     "name": "stdout",
     "output_type": "stream",
     "text": [
      "Best parameters set found on development set:\n",
      "\n",
      "{'min_samples_split': 2, 'max_depth': 10, 'min_samples_leaf': 100}\n",
      "\n",
      "MSE Cross Validation Results\n",
      "Mean: 5.59E+6\n",
      "Std. Dev.: 1.41E+6\n",
      "\n"
     ]
    }
   ],
   "source": [
    "y = df['place'].as_matrix()\n",
    "\n",
    "param_grid = [\n",
    "    {'max_depth': [2, 3, 4, 5, 6, 7, 8, 9, 10],\n",
    "    'min_samples_split': [2, 3, 4, 5],\n",
    "    'min_samples_leaf': [100, 150, 200, 250, 300, 350, 400, 450, 500]}\n",
    "]\n",
    "\n",
    "GBreg = GradientBoostingRegressor()\n",
    "\n",
    "GBreg = GridSearchCV(GBreg, cv=5, param_grid=param_grid, scoring='neg_mean_squared_error')\n",
    "\n",
    "GBreg.fit(X_kitchen_sink2, y)\n",
    "\n",
    "print(\"Best parameters set found on development set:\")\n",
    "print()\n",
    "print(GBreg.best_params_)\n",
    "print()\n",
    "\n",
    "max_depth, min_samples_leaf, min_samples_split = \\\n",
    "        GBreg.best_params_['max_depth'], GBreg.best_params_['min_samples_leaf'], \\\n",
    "        GBreg.best_params_['min_samples_split']\n",
    "\n",
    "reg = RandomForestRegressor(max_depth=max_depth, min_samples_leaf=min_samples_leaf, \\\n",
    "                            min_samples_split=min_samples_split)\n",
    "        \n",
    "cv_score_MSE = cross_val_score(GBreg, X=X_kitchen_sink2, y=y, scoring='neg_mean_squared_error', cv=5)\n",
    "print(\"MSE Cross Validation Results\\nMean: {:.2E}\\nStd. Dev.: {:.2E}\\n\".format(-Decimal(np.mean(cv_score_MSE)), \\\n",
    "                                                                               Decimal(np.std(cv_score_MSE))))"
   ]
  },
  {
   "cell_type": "code",
   "execution_count": 60,
   "metadata": {},
   "outputs": [
    {
     "name": "stdout",
     "output_type": "stream",
     "text": [
      "2016 Random Forest Regressor:\n",
      "MSE: 3.21E+7\n"
     ]
    }
   ],
   "source": [
    "GBreg_optimized = GradientBoostingRegressor(min_samples_split=20, max_depth=10, min_samples_leaf=100)\n",
    "GBreg_optimized.fit(X_kitchen_sink2, y)\n",
    "\n",
    "y_hat_2016 = GBreg_optimized.predict(X_2016)\n",
    "\n",
    "print('2016 Random Forest Regressor:\\nMSE: {:.2E}'.format(Decimal(mean_squared_error(y2016, y_hat_2016))))"
   ]
  },
  {
   "cell_type": "markdown",
   "metadata": {},
   "source": [
    "Now we'll make two changes. First is that we include the 5k to 40k diff ratio, in the hopes of capturing how stronger runners can maintain a fast pace at the end of the race. Second, we increase the min_samples_split grid to avoid overfitting."
   ]
  },
  {
   "cell_type": "code",
   "execution_count": 85,
   "metadata": {},
   "outputs": [],
   "source": [
    "X_kitchen_sink3 = df[['5k_to_10k_diff_ratio', '10k_to_15k_diff_ratio', '15k_to_20k_diff_ratio', \\\n",
    "                    '20k_to_25k_diff_ratio', '25k_to_30k_diff_ratio', '30k_to_35k_diff_ratio', '35k_to_40k_diff_ratio', \\\n",
    "                    '5k_to_40k_diff_ratio', 'L2_speed_diff_ratio']].as_matrix()"
   ]
  },
  {
   "cell_type": "code",
   "execution_count": 86,
   "metadata": {},
   "outputs": [
    {
     "name": "stdout",
     "output_type": "stream",
     "text": [
      "Best parameters set found on development set:\n",
      "\n",
      "{'max_depth': 13, 'min_samples_leaf': 25, 'min_samples_split': 50}\n",
      "\n",
      "2017 MSE Cross Validation Results\n",
      "Mean: 7.76E+6\n",
      "Std. Dev.: 1.84E+6\n",
      "\n"
     ]
    }
   ],
   "source": [
    "reg = RandomForestRegressor()\n",
    "\n",
    "param_grid = [\n",
    "    {'max_depth': [10, 11, 12, 13, 14, 15],\n",
    "    'min_samples_split': [10, 20, 30, 40, 50],\n",
    "    'min_samples_leaf': [25, 50, 75, 100, 150, 200, 250, 300]}\n",
    "]\n",
    "\n",
    "reg = GridSearchCV(reg, cv=5, param_grid=param_grid, scoring='neg_mean_squared_error')\n",
    "\n",
    "y = df['place'].as_matrix()\n",
    "\n",
    "reg.fit(X_kitchen_sink3, y)\n",
    "\n",
    "print(\"Best parameters set found on development set:\")\n",
    "print()\n",
    "print(reg.best_params_)\n",
    "print()\n",
    "\n",
    "max_depth, min_samples_leaf, min_samples_split = \\\n",
    "        reg.best_params_['max_depth'], reg.best_params_['min_samples_leaf'], \\\n",
    "        reg.best_params_['min_samples_split']\n",
    "\n",
    "#reg = RandomForestRegressor(max_depth=max_depth, min_samples_leaf=min_samples_leaf, \\\n",
    "#                            min_samples_split=min_samples_split, warm_start=True)\n",
    "        \n",
    "cv_score_MSE = cross_val_score(reg, X=X_kitchen_sink3, y=y, scoring='neg_mean_squared_error', cv=5)\n",
    "print(\"2017 MSE Cross Validation Results\\nMean: {:.2E}\\nStd. Dev.: {:.2E}\\n\".format(-Decimal(np.mean(cv_score_MSE)), \\\n",
    "                                                                               Decimal(np.std(cv_score_MSE))))"
   ]
  },
  {
   "cell_type": "code",
   "execution_count": 90,
   "metadata": {},
   "outputs": [
    {
     "name": "stdout",
     "output_type": "stream",
     "text": [
      "2016 Random Forest Regressor:\n",
      "MSE: 1.37E+7\n"
     ]
    }
   ],
   "source": [
    "X_2016 = df2016[['5k_to_10k_diff_ratio', '10k_to_15k_diff_ratio', '15k_to_20k_diff_ratio', \\\n",
    "                    '20k_to_25k_diff_ratio', '25k_to_30k_diff_ratio', '30k_to_35k_diff_ratio', '35k_to_40k_diff_ratio', \\\n",
    "                    '5k_to_40k_diff_ratio', 'L2_speed_diff_ratio']].as_matrix()\n",
    "\n",
    "y2016 = df2016['place'].as_matrix()\n",
    "y_hat_2016 = reg.predict(X_2016)\n",
    "\n",
    "print('2016 Random Forest Regressor:\\nMSE: {:.2E}'.format(Decimal(mean_squared_error(y2016, y_hat_2016))))"
   ]
  },
  {
   "cell_type": "markdown",
   "metadata": {},
   "source": [
    "Let's try again, but dropping down the min_samples_split to try and recapture some gain."
   ]
  },
  {
   "cell_type": "code",
   "execution_count": 94,
   "metadata": {},
   "outputs": [
    {
     "name": "stdout",
     "output_type": "stream",
     "text": [
      "Best parameters set found on development set:\n",
      "\n",
      "{'max_depth': 15, 'min_samples_leaf': 25, 'min_samples_split': 10}\n",
      "\n",
      "2017 MSE Cross Validation Results\n",
      "Mean: 7.81E+6\n",
      "Std. Dev.: 1.83E+6\n",
      "\n"
     ]
    }
   ],
   "source": [
    "reg = RandomForestRegressor()\n",
    "\n",
    "param_grid = [\n",
    "    {'max_depth': [10, 15],\n",
    "    'min_samples_split': [5, 10, 15],\n",
    "    'min_samples_leaf': [25]}\n",
    "]\n",
    "\n",
    "reg = GridSearchCV(reg, cv=5, param_grid=param_grid, scoring='neg_mean_squared_error')\n",
    "\n",
    "y = df['place'].as_matrix()\n",
    "\n",
    "reg.fit(X_kitchen_sink3, y)\n",
    "\n",
    "print(\"Best parameters set found on development set:\")\n",
    "print()\n",
    "print(reg.best_params_)\n",
    "print()\n",
    "\n",
    "max_depth, min_samples_leaf, min_samples_split = \\\n",
    "        reg.best_params_['max_depth'], reg.best_params_['min_samples_leaf'], \\\n",
    "        reg.best_params_['min_samples_split']\n",
    "\n",
    "#reg = RandomForestRegressor(max_depth=max_depth, min_samples_leaf=min_samples_leaf, \\\n",
    "#                            min_samples_split=min_samples_split, warm_start=True)\n",
    "        \n",
    "cv_score_MSE = cross_val_score(reg, X=X_kitchen_sink3, y=y, scoring='neg_mean_squared_error', cv=5)\n",
    "print(\"2017 MSE Cross Validation Results\\nMean: {:.2E}\\nStd. Dev.: {:.2E}\\n\".format(-Decimal(np.mean(cv_score_MSE)), \\\n",
    "                                                                               Decimal(np.std(cv_score_MSE))))"
   ]
  },
  {
   "cell_type": "code",
   "execution_count": 95,
   "metadata": {},
   "outputs": [
    {
     "name": "stdout",
     "output_type": "stream",
     "text": [
      "2016 Random Forest Regressor:\n",
      "MSE: 1.35E+7\n"
     ]
    }
   ],
   "source": [
    "y_hat_2016 = reg.predict(X_2016)\n",
    "\n",
    "print('2016 Random Forest Regressor:\\nMSE: {:.2E}'.format(Decimal(mean_squared_error(y2016, y_hat_2016))))"
   ]
  },
  {
   "cell_type": "code",
   "execution_count": 106,
   "metadata": {},
   "outputs": [],
   "source": [
    "from sklearn.preprocessing import StandardScaler\n",
    "\n",
    "scaler = StandardScaler()\n",
    "scaler.fit(X_kitchen_sink3)\n",
    "X_kitchen_sink3 = scaler.transform(X_kitchen_sink3)\n",
    "scaler.fit(X_2016)\n",
    "X_2016 = scaler.transform(X_2016)"
   ]
  },
  {
   "cell_type": "code",
   "execution_count": 110,
   "metadata": {},
   "outputs": [
    {
     "name": "stdout",
     "output_type": "stream",
     "text": [
      "Best parameters set found on development set:\n",
      "\n",
      "{'max_depth': 15, 'min_samples_leaf': 25, 'min_samples_split': 15, 'n_estimators': 100}\n",
      "\n",
      "2017 MSE Cross Validation Results\n",
      "Mean: 7.48E+6\n",
      "Std. Dev.: 1.80E+6\n",
      "\n"
     ]
    }
   ],
   "source": [
    "reg = RandomForestRegressor()\n",
    "\n",
    "param_grid = [\n",
    "    {'max_depth': [10, 15],\n",
    "    'min_samples_split': [5, 10, 15],\n",
    "    'min_samples_leaf': [25],\n",
    "    'n_estimators': [100, 200]}\n",
    "]\n",
    "\n",
    "reg = GridSearchCV(reg, cv=5, param_grid=param_grid, scoring='neg_mean_squared_error', n_jobs=-1)\n",
    "\n",
    "y = df['place'].as_matrix()\n",
    "\n",
    "reg.fit(X_kitchen_sink3, y)\n",
    "\n",
    "print(\"Best parameters set found on training set using cross-validation:\")\n",
    "print()\n",
    "print(reg.best_params_)\n",
    "print()\n",
    "\n",
    "max_depth, min_samples_leaf, min_samples_split = \\\n",
    "        reg.best_params_['max_depth'], reg.best_params_['min_samples_leaf'], \\\n",
    "        reg.best_params_['min_samples_split']\n",
    "\n",
    "cv_score_MSE = cross_val_score(reg, X=X_kitchen_sink3, y=y, scoring='neg_mean_squared_error', cv=5)\n",
    "print(\"2017 MSE Cross Validation Results\\nMean: {:.2E}\\nStd. Dev.: {:.2E}\\n\".format(-Decimal(np.mean(cv_score_MSE)), \\\n",
    "                                                                               Decimal(np.std(cv_score_MSE))))"
   ]
  },
  {
   "cell_type": "code",
   "execution_count": 111,
   "metadata": {},
   "outputs": [
    {
     "name": "stdout",
     "output_type": "stream",
     "text": [
      "2016 Random Forest Regressor:\n",
      "MSE: 1.11E+7\n"
     ]
    }
   ],
   "source": [
    "y_hat_2016 = reg.predict(X_2016)\n",
    "\n",
    "print('2016 Random Forest Regressor:\\nMSE: {:.2E}'.format(Decimal(mean_squared_error(y2016, y_hat_2016))))"
   ]
  },
  {
   "cell_type": "code",
   "execution_count": null,
   "metadata": {},
   "outputs": [],
   "source": [
    "df2017 = pd.read_csv('data/2017/mens_speed.csv')\n",
    "df2016 = pd.read_csv('data/2016/mens_speed.csv')"
   ]
  },
  {
   "cell_type": "code",
   "execution_count": 78,
   "metadata": {},
   "outputs": [
    {
     "name": "stdout",
     "output_type": "stream",
     "text": [
      "2016 Random Forest Regressor:\n",
      "MSE: 1.20E+7\n"
     ]
    }
   ],
   "source": [
    "lr = LinearRegression()\n",
    "\n",
    "X_5k = df['5k_split'].as_matrix()\n",
    "X_5k = X_5k.reshape((len(X_5k), 1))\n",
    "\n",
    "lr.fit(X_5k, y)\n",
    "\n",
    "X_5k_2016 = df2016['5k_split'].as_matrix().reshape((len(df2016['5k_split']), 1))\n",
    "\n",
    "y_hat_lr_2016 = lr.predict(X_5k_2016)\n",
    "\n",
    "print('2016 Random Forest Regressor:\\nMSE: {:.2E}'.format(Decimal(mean_squared_error(y2016, y_hat_lr_2016))))"
   ]
  },
  {
   "cell_type": "code",
   "execution_count": null,
   "metadata": {},
   "outputs": [],
   "source": []
  }
 ],
 "metadata": {
  "kernelspec": {
   "display_name": "Python [default]",
   "language": "python",
   "name": "python3"
  },
  "language_info": {
   "codemirror_mode": {
    "name": "ipython",
    "version": 3
   },
   "file_extension": ".py",
   "mimetype": "text/x-python",
   "name": "python",
   "nbconvert_exporter": "python",
   "pygments_lexer": "ipython3",
   "version": "3.5.3"
  }
 },
 "nbformat": 4,
 "nbformat_minor": 2
}
