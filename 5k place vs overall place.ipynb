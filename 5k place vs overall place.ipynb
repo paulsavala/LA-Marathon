{
 "cells": [
  {
   "cell_type": "markdown",
   "metadata": {},
   "source": [
    "The purpose of this notebook is to determine how well place at the 5k mark (in terms of time needed to get there) correlates with overall finishing place."
   ]
  },
  {
   "cell_type": "code",
   "execution_count": 3,
   "metadata": {},
   "outputs": [],
   "source": [
    "import pandas as pd\n",
    "import numpy as np\n",
    "import seaborn as sns\n",
    "from matplotlib import pyplot as plt\n",
    "%matplotlib inline"
   ]
  },
  {
   "cell_type": "code",
   "execution_count": 4,
   "metadata": {},
   "outputs": [],
   "source": [
    "df = pd.read_csv('data/mens_speed.csv')"
   ]
  },
  {
   "cell_type": "code",
   "execution_count": 5,
   "metadata": {},
   "outputs": [],
   "source": [
    "speed_cols = ['5k_speed', '10k_speed', '15k_speed', '20k_speed', '25k_speed', '30k_speed', '35k_speed', '40k_speed']\n",
    "split_cols = ['5k_split', '10k_split', '15k_split', '20k_split', '25k_split', '30k_split', '35k_split', '40k_split']\n",
    "avg_speed_cols = ['10k_avg_speed', '15k_avg_speed', '20k_avg_speed', '25k_avg_speed', \\\n",
    "                  '30k_avg_speed', '35k_avg_speed', '40k_avg_speed', 'last_2k_speed', 'final_avg_speed']"
   ]
  },
  {
   "cell_type": "code",
   "execution_count": 6,
   "metadata": {},
   "outputs": [],
   "source": [
    "df[speed_cols] = df[speed_cols].apply(pd.to_numeric)\n",
    "df[split_cols] = df[split_cols].apply(pd.to_numeric)\n",
    "df[avg_speed_cols] = df[avg_speed_cols].apply(pd.to_numeric)"
   ]
  },
  {
   "cell_type": "code",
   "execution_count": 5,
   "metadata": {},
   "outputs": [
    {
     "data": {
      "text/html": [
       "<div>\n",
       "<style>\n",
       "    .dataframe thead tr:only-child th {\n",
       "        text-align: right;\n",
       "    }\n",
       "\n",
       "    .dataframe thead th {\n",
       "        text-align: left;\n",
       "    }\n",
       "\n",
       "    .dataframe tbody tr th {\n",
       "        vertical-align: top;\n",
       "    }\n",
       "</style>\n",
       "<table border=\"1\" class=\"dataframe\">\n",
       "  <thead>\n",
       "    <tr style=\"text-align: right;\">\n",
       "      <th></th>\n",
       "      <th>div_place</th>\n",
       "      <th>name</th>\n",
       "      <th>bib</th>\n",
       "      <th>age</th>\n",
       "      <th>place</th>\n",
       "      <th>gender_place</th>\n",
       "      <th>5k_split</th>\n",
       "      <th>10k_split</th>\n",
       "      <th>15k_split</th>\n",
       "      <th>20k_split</th>\n",
       "      <th>...</th>\n",
       "      <th>40k_speed</th>\n",
       "      <th>last_2k_speed</th>\n",
       "      <th>10k_avg_speed</th>\n",
       "      <th>15k_avg_speed</th>\n",
       "      <th>20k_avg_speed</th>\n",
       "      <th>25k_avg_speed</th>\n",
       "      <th>30k_avg_speed</th>\n",
       "      <th>35k_avg_speed</th>\n",
       "      <th>40k_avg_speed</th>\n",
       "      <th>final_avg_speed</th>\n",
       "    </tr>\n",
       "  </thead>\n",
       "  <tbody>\n",
       "    <tr>\n",
       "      <th>0</th>\n",
       "      <td>1</td>\n",
       "      <td>EDGAR YAK DE PADUA</td>\n",
       "      <td>41626</td>\n",
       "      <td>14</td>\n",
       "      <td>472</td>\n",
       "      <td>445</td>\n",
       "      <td>22.366667</td>\n",
       "      <td>44.700000</td>\n",
       "      <td>67.033333</td>\n",
       "      <td>89.466667</td>\n",
       "      <td>...</td>\n",
       "      <td>3.209243</td>\n",
       "      <td>1.212038</td>\n",
       "      <td>3.728561</td>\n",
       "      <td>3.729488</td>\n",
       "      <td>3.725782</td>\n",
       "      <td>3.679717</td>\n",
       "      <td>3.598848</td>\n",
       "      <td>3.508772</td>\n",
       "      <td>3.468308</td>\n",
       "      <td>3.464286</td>\n",
       "    </tr>\n",
       "    <tr>\n",
       "      <th>1</th>\n",
       "      <td>2</td>\n",
       "      <td>DAVID ROMAN</td>\n",
       "      <td>40554</td>\n",
       "      <td>15</td>\n",
       "      <td>505</td>\n",
       "      <td>473</td>\n",
       "      <td>24.783333</td>\n",
       "      <td>47.233333</td>\n",
       "      <td>68.916667</td>\n",
       "      <td>91.416667</td>\n",
       "      <td>...</td>\n",
       "      <td>3.004808</td>\n",
       "      <td>1.808072</td>\n",
       "      <td>3.528582</td>\n",
       "      <td>3.627570</td>\n",
       "      <td>3.646308</td>\n",
       "      <td>3.643784</td>\n",
       "      <td>3.604037</td>\n",
       "      <td>3.529293</td>\n",
       "      <td>3.453933</td>\n",
       "      <td>3.447022</td>\n",
       "    </tr>\n",
       "    <tr>\n",
       "      <th>2</th>\n",
       "      <td>3</td>\n",
       "      <td>RONALD PINEDA</td>\n",
       "      <td>41123</td>\n",
       "      <td>13</td>\n",
       "      <td>549</td>\n",
       "      <td>509</td>\n",
       "      <td>22.833333</td>\n",
       "      <td>45.566667</td>\n",
       "      <td>68.183333</td>\n",
       "      <td>90.633333</td>\n",
       "      <td>...</td>\n",
       "      <td>3.172589</td>\n",
       "      <td>1.199454</td>\n",
       "      <td>3.657644</td>\n",
       "      <td>3.666585</td>\n",
       "      <td>3.677823</td>\n",
       "      <td>3.642191</td>\n",
       "      <td>3.569304</td>\n",
       "      <td>3.483627</td>\n",
       "      <td>3.441452</td>\n",
       "      <td>3.414387</td>\n",
       "    </tr>\n",
       "    <tr>\n",
       "      <th>3</th>\n",
       "      <td>4</td>\n",
       "      <td>ROBERT HAWRYLO</td>\n",
       "      <td>41574</td>\n",
       "      <td>15</td>\n",
       "      <td>646</td>\n",
       "      <td>596</td>\n",
       "      <td>25.566667</td>\n",
       "      <td>48.433333</td>\n",
       "      <td>71.500000</td>\n",
       "      <td>94.866667</td>\n",
       "      <td>...</td>\n",
       "      <td>3.207184</td>\n",
       "      <td>1.679419</td>\n",
       "      <td>3.441156</td>\n",
       "      <td>3.496503</td>\n",
       "      <td>3.513703</td>\n",
       "      <td>3.498461</td>\n",
       "      <td>3.451450</td>\n",
       "      <td>3.396739</td>\n",
       "      <td>3.371828</td>\n",
       "      <td>3.368056</td>\n",
       "    </tr>\n",
       "    <tr>\n",
       "      <th>4</th>\n",
       "      <td>5</td>\n",
       "      <td>BRYAN SON</td>\n",
       "      <td>40561</td>\n",
       "      <td>14</td>\n",
       "      <td>711</td>\n",
       "      <td>654</td>\n",
       "      <td>25.083333</td>\n",
       "      <td>50.083333</td>\n",
       "      <td>74.183333</td>\n",
       "      <td>97.916667</td>\n",
       "      <td>...</td>\n",
       "      <td>3.094059</td>\n",
       "      <td>2.337593</td>\n",
       "      <td>3.327787</td>\n",
       "      <td>3.370029</td>\n",
       "      <td>3.404255</td>\n",
       "      <td>3.415301</td>\n",
       "      <td>3.406381</td>\n",
       "      <td>3.371544</td>\n",
       "      <td>3.334167</td>\n",
       "      <td>3.341120</td>\n",
       "    </tr>\n",
       "  </tbody>\n",
       "</table>\n",
       "<p>5 rows × 34 columns</p>\n",
       "</div>"
      ],
      "text/plain": [
       "   div_place                name    bib  age  place  gender_place   5k_split  \\\n",
       "0          1  EDGAR YAK DE PADUA  41626   14    472           445  22.366667   \n",
       "1          2         DAVID ROMAN  40554   15    505           473  24.783333   \n",
       "2          3       RONALD PINEDA  41123   13    549           509  22.833333   \n",
       "3          4      ROBERT HAWRYLO  41574   15    646           596  25.566667   \n",
       "4          5           BRYAN SON  40561   14    711           654  25.083333   \n",
       "\n",
       "   10k_split  15k_split  20k_split       ...         40k_speed  last_2k_speed  \\\n",
       "0  44.700000  67.033333  89.466667       ...          3.209243       1.212038   \n",
       "1  47.233333  68.916667  91.416667       ...          3.004808       1.808072   \n",
       "2  45.566667  68.183333  90.633333       ...          3.172589       1.199454   \n",
       "3  48.433333  71.500000  94.866667       ...          3.207184       1.679419   \n",
       "4  50.083333  74.183333  97.916667       ...          3.094059       2.337593   \n",
       "\n",
       "   10k_avg_speed  15k_avg_speed  20k_avg_speed  25k_avg_speed 30k_avg_speed  \\\n",
       "0       3.728561       3.729488       3.725782       3.679717      3.598848   \n",
       "1       3.528582       3.627570       3.646308       3.643784      3.604037   \n",
       "2       3.657644       3.666585       3.677823       3.642191      3.569304   \n",
       "3       3.441156       3.496503       3.513703       3.498461      3.451450   \n",
       "4       3.327787       3.370029       3.404255       3.415301      3.406381   \n",
       "\n",
       "   35k_avg_speed  40k_avg_speed  final_avg_speed  \n",
       "0       3.508772       3.468308         3.464286  \n",
       "1       3.529293       3.453933         3.447022  \n",
       "2       3.483627       3.441452         3.414387  \n",
       "3       3.396739       3.371828         3.368056  \n",
       "4       3.371544       3.334167         3.341120  \n",
       "\n",
       "[5 rows x 34 columns]"
      ]
     },
     "execution_count": 5,
     "metadata": {},
     "output_type": "execute_result"
    }
   ],
   "source": [
    "df.head()"
   ]
  },
  {
   "cell_type": "code",
   "execution_count": 7,
   "metadata": {},
   "outputs": [
    {
     "data": {
      "text/plain": [
       "20.133333333333333"
      ]
     },
     "execution_count": 7,
     "metadata": {},
     "output_type": "execute_result"
    }
   ],
   "source": [
    "df['5k_split'].quantile(.01)"
   ]
  },
  {
   "cell_type": "code",
   "execution_count": 65,
   "metadata": {},
   "outputs": [
    {
     "data": {
      "text/plain": [
       "[<matplotlib.lines.Line2D at 0x11624a0f0>]"
      ]
     },
     "execution_count": 65,
     "metadata": {},
     "output_type": "execute_result"
    },
    {
     "data": {
      "image/png": "[encoded data removed]",
      "text/plain": [
       "<matplotlib.figure.Figure at 0x114457a20>"
      ]
     },
     "metadata": {},
     "output_type": "display_data"
    }
   ],
   "source": [
    "fig = plt.figure(figsize=(16, 10))\n",
    "\n",
    "x = np.arange(0.01,1,0.01)\n",
    "y = [df['5k_split'].quantile(q) for q in x]\n",
    "\n",
    "plt.plot(100*x, y)"
   ]
  },
  {
   "cell_type": "code",
   "execution_count": 16,
   "metadata": {},
   "outputs": [
    {
     "data": {
      "text/plain": [
       "0.64423076923076927"
      ]
     },
     "execution_count": 16,
     "metadata": {},
     "output_type": "execute_result"
    }
   ],
   "source": [
    "x = np.arange(0.01,1.01,0.01)\n",
    "quantiles_5k = [df['5k_split'].quantile(q) for q in x]\n",
    "quantiles_place = [df['place'].quantile(q) for q in x]\n",
    "\n",
    "df[df['5k_split'] <= quantiles_5k[0]]['bib'].isin(df[df['place'] <= quantiles_place[0]]['bib']).sum() \\\n",
    "    / len(df[df['place'] <= quantiles_place[0]]['bib'])"
   ]
  },
  {
   "cell_type": "code",
   "execution_count": 23,
   "metadata": {},
   "outputs": [
    {
     "data": {
      "text/plain": [
       "0.23076923076923078"
      ]
     },
     "execution_count": 23,
     "metadata": {},
     "output_type": "execute_result"
    }
   ],
   "source": [
    "df[df['5k_split'].between(quantiles_5k[0], quantiles_5k[1])]['bib'].isin(df[df['place'] <= quantiles_place[0]]['bib']).sum() / len(df[df['place'] <= quantiles_place[0]]['bib'])"
   ]
  },
  {
   "cell_type": "code",
   "execution_count": 36,
   "metadata": {},
   "outputs": [],
   "source": [
    "def top_one_pct_by_pace(lower_pace_quantile, upper_pace_quantile):\n",
    "    top_one_pct = df[df['place'] <= df['place'].quantile(0.01)]\n",
    "    pct = df[df['5k_split'].between(df['5k_split'].quantile(lower_pace_quantile), df['5k_split'].quantile(upper_pace_quantile))]['bib'].isin(top_one_pct['bib']).sum() / len(top_one_pct)\n",
    "    return pct"
   ]
  },
  {
   "cell_type": "code",
   "execution_count": 69,
   "metadata": {},
   "outputs": [
    {
     "data": {
      "text/plain": [
       "[<matplotlib.lines.Line2D at 0x116c51be0>]"
      ]
     },
     "execution_count": 69,
     "metadata": {},
     "output_type": "execute_result"
    },
    {
     "data": {
      "image/png": "[encoded data removed]",
      "text/plain": [
       "<matplotlib.figure.Figure at 0x1169de6d8>"
      ]
     },
     "metadata": {},
     "output_type": "display_data"
    }
   ],
   "source": [
    "fig = plt.figure(figsize=(16, 10))\n",
    "\n",
    "x = np.arange(0.001,0.03,0.001)\n",
    "y_top_one_pct = [top_one_pct_by_pace(n, n+0.001) for n in x]\n",
    "y_top_one_pct.insert(0,df[df['5k_split'] <= quantiles_5k[0]]['bib'].isin(df[df['place'] <= quantiles_place[0]]['bib']).sum() \\\n",
    "    / len(df[df['place'] <= quantiles_place[0]]['bib']))\n",
    "\n",
    "plt.plot(100*x, y_top_one_pct[:-1])"
   ]
  },
  {
   "cell_type": "markdown",
   "metadata": {},
   "source": [
    "We'll now build a linear model to predict placing using only the 5k split. The accuracy will be evaluated using MSE between the predicted placing and the actual placing."
   ]
  },
  {
   "cell_type": "code",
   "execution_count": 11,
   "metadata": {},
   "outputs": [],
   "source": [
    "from sklearn.linear_model import LinearRegression\n",
    "from sklearn.metrics import mean_squared_error\n",
    "from sklearn.model_selection import cross_val_score"
   ]
  },
  {
   "cell_type": "code",
   "execution_count": 22,
   "metadata": {},
   "outputs": [
    {
     "name": "stdout",
     "output_type": "stream",
     "text": [
      "MSE Cross Validation Results\n",
      "Mean: 10053170.599975113\n",
      "Std. Dev.: 796386.0676187\n",
      "\n",
      "R^2 Cross Validation Results\n",
      "Mean: 0.6207432348230668\n",
      "Std. Dev.: 0.04232063641205509\n"
     ]
    }
   ],
   "source": [
    "reg = LinearRegression()\n",
    "\n",
    "X = df['5k_split'].as_matrix().reshape((len(df['5k_split']), 1))\n",
    "y = df['place'].as_matrix().reshape((len(df['5k_split']), 1))\n",
    "\n",
    "cv_score_MSE = cross_val_score(reg, X=X, y=y, scoring='neg_mean_squared_error', cv=5)\n",
    "print(\"MSE Cross Validation Results\\nMean: {}\\nStd. Dev.: {}\\n\".format(-np.mean(cv_score_MSE), np.std(cv_score_MSE)))\n",
    "\n",
    "cv_score_R2 = cross_val_score(reg, X=X, y=y, cv=5)\n",
    "print(\"R^2 Cross Validation Results\\nMean: {}\\nStd. Dev.: {}\".format(np.mean(cv_score_R2), np.std(cv_score_R2)))"
   ]
  },
  {
   "cell_type": "code",
   "execution_count": null,
   "metadata": {},
   "outputs": [],
   "source": []
  }
 ],
 "metadata": {
  "kernelspec": {
   "display_name": "Python [default]",
   "language": "python",
   "name": "python3"
  },
  "language_info": {
   "codemirror_mode": {
    "name": "ipython",
    "version": 3
   },
   "file_extension": ".py",
   "mimetype": "text/x-python",
   "name": "python",
   "nbconvert_exporter": "python",
   "pygments_lexer": "ipython3",
   "version": "3.5.3"
  }
 },
 "nbformat": 4,
 "nbformat_minor": 2
}
