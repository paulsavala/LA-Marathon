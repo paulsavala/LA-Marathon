{
 "cells": [
  {
   "cell_type": "markdown",
   "metadata": {},
   "source": [
    "The purpose of this notebook is to build a scraper for the LA Marathon data. The results are available at the link below:\n",
    "\n",
    "https://www.trackshackresults.com/lamarathon/results/2017/"
   ]
  },
  {
   "cell_type": "code",
   "execution_count": 1,
   "metadata": {
    "collapsed": true
   },
   "outputs": [],
   "source": [
    "from urllib.request import urlopen\n",
    "from bs4 import BeautifulSoup\n",
    "import pandas as pd\n",
    "import numpy as np"
   ]
  },
  {
   "cell_type": "code",
   "execution_count": 2,
   "metadata": {
    "collapsed": true
   },
   "outputs": [],
   "source": [
    "# Url that we are scraping. The numbers give the age range (inclusive), and the _m means male\n",
    "url_15_under_m = \"https://www.trackshackresults.com/lamarathon/results/2017/mar_results.php?Link=9&Type=2&Div=D&Ind=0\"\n",
    "url_16_19_m = \"https://www.trackshackresults.com/lamarathon/results/2017/mar_results.php?Link=9&Type=2&Div=DA&Ind=1\"\n",
    "url_20_24_m = \"https://www.trackshackresults.com/lamarathon/results/2017/mar_results.php?Link=9&Type=2&Div=E&Ind=2\"\n",
    "url_25_29_m = \"https://www.trackshackresults.com/lamarathon/results/2017/mar_results.php?Link=9&Type=2&Div=F&Ind=3\"\n",
    "url_30_34_m = \"https://www.trackshackresults.com/lamarathon/results/2017/mar_results.php?Link=9&Type=2&Div=G&Ind=4\"\n",
    "url_35_39_m = \"https://www.trackshackresults.com/lamarathon/results/2017/mar_results.php?Link=9&Type=2&Div=H&Ind=5\"\n",
    "url_40_44_m = \"https://www.trackshackresults.com/lamarathon/results/2017/mar_results.php?Link=9&Type=2&Div=I&Ind=6\"\n",
    "url_45_49_m = \"https://www.trackshackresults.com/lamarathon/results/2017/mar_results.php?Link=9&Type=2&Div=J&Ind=7\"\n",
    "url_50_54_m = \"https://www.trackshackresults.com/lamarathon/results/2017/mar_results.php?Link=9&Type=2&Div=K&Ind=8\"\n",
    "url_55_59_m = \"https://www.trackshackresults.com/lamarathon/results/2017/mar_results.php?Link=9&Type=2&Div=L&Ind=9\"\n",
    "url_60_64_m = \"https://www.trackshackresults.com/lamarathon/results/2017/mar_results.php?Link=9&Type=2&Div=M&Ind=10\"\n",
    "url_65_69_m = \"https://www.trackshackresults.com/lamarathon/results/2017/mar_results.php?Link=9&Type=2&Div=MA&Ind=11\"\n",
    "url_70_74_m = \"https://www.trackshackresults.com/lamarathon/results/2017/mar_results.php?Link=9&Type=2&Div=N&Ind=12\"\n",
    "url_75_79_m = \"https://www.trackshackresults.com/lamarathon/results/2017/mar_results.php?Link=9&Type=2&Div=NA&Ind=13\"\n",
    "url_80_over_m = \"https://www.trackshackresults.com/lamarathon/results/2017/mar_results.php?Link=9&Type=2&Div=NB&Ind=14\"\n",
    "\n",
    "url_list = [url_15_under_m, url_16_19_m, url_20_24_m, url_25_29_m, url_30_34_m, url_35_39_m, url_40_44_m, \\\n",
    "           url_45_49_m, url_50_54_m, url_55_59_m, url_60_64_m, url_65_69_m, url_70_74_m, url_75_79_m, url_80_over_m]\n",
    "\n",
    "html_list = [urlopen(url) for url in url_list]\n",
    "\n",
    "soup_list = [BeautifulSoup(html, 'html.parser') for html in html_list]\n",
    "\n",
    "tr_list = [soup.find_all('tr') for soup in soup_list]\n",
    "\n",
    "results_list = [tr[11:] for tr in tr_list] # The first 11 rows are junk"
   ]
  },
  {
   "cell_type": "code",
   "execution_count": 3,
   "metadata": {
    "collapsed": true
   },
   "outputs": [],
   "source": [
    "columns = ['div_place', 'name', 'bib', 'age', 'place', 'gender_place', '5k_split', '10k_split', '15k_split', \\\n",
    "           '20k_split', '25k_split', '30k_split', '35k_split', '40k_split', 'clock_time', 'net_time', 'hometown']\n",
    "\n",
    "athlete_data = []\n",
    "\n",
    "for division in results_list: # Looks at the particular division...\n",
    "    for athlete in division: # ...now look at the particular row (athlete) in that division...\n",
    "        athlete_tr = athlete.find_all('td')[:-1]  #...then find all their td's (holds their data) except the last (an image)\n",
    "        column_counter = 0\n",
    "        data_dict = {}\n",
    "        for td in athlete_tr: # For each bit of data...\n",
    "            data_dict[columns[column_counter]] = td.string #...assign it to the appropriate key in the dictionary...\n",
    "            column_counter += 1\n",
    "        athlete_data.append(data_dict) #...then append this dictionary to the list of athlete data"
   ]
  },
  {
   "cell_type": "code",
   "execution_count": 4,
   "metadata": {},
   "outputs": [
    {
     "data": {
      "text/plain": [
       "10951"
      ]
     },
     "execution_count": 4,
     "metadata": {},
     "output_type": "execute_result"
    }
   ],
   "source": [
    "len(athlete_data)"
   ]
  },
  {
   "cell_type": "code",
   "execution_count": 5,
   "metadata": {
    "collapsed": true
   },
   "outputs": [],
   "source": [
    "df = pd.DataFrame(athlete_data, columns=columns)"
   ]
  },
  {
   "cell_type": "code",
   "execution_count": 6,
   "metadata": {},
   "outputs": [
    {
     "data": {
      "text/html": [
       "<div>\n",
       "<style>\n",
       "    .dataframe thead tr:only-child th {\n",
       "        text-align: right;\n",
       "    }\n",
       "\n",
       "    .dataframe thead th {\n",
       "        text-align: left;\n",
       "    }\n",
       "\n",
       "    .dataframe tbody tr th {\n",
       "        vertical-align: top;\n",
       "    }\n",
       "</style>\n",
       "<table border=\"1\" class=\"dataframe\">\n",
       "  <thead>\n",
       "    <tr style=\"text-align: right;\">\n",
       "      <th></th>\n",
       "      <th>div_place</th>\n",
       "      <th>name</th>\n",
       "      <th>bib</th>\n",
       "      <th>age</th>\n",
       "      <th>place</th>\n",
       "      <th>gender_place</th>\n",
       "      <th>5k_split</th>\n",
       "      <th>10k_split</th>\n",
       "      <th>15k_split</th>\n",
       "      <th>20k_split</th>\n",
       "      <th>25k_split</th>\n",
       "      <th>30k_split</th>\n",
       "      <th>35k_split</th>\n",
       "      <th>40k_split</th>\n",
       "      <th>clock_time</th>\n",
       "      <th>net_time</th>\n",
       "      <th>hometown</th>\n",
       "    </tr>\n",
       "  </thead>\n",
       "  <tbody>\n",
       "    <tr>\n",
       "      <th>0</th>\n",
       "      <td>1</td>\n",
       "      <td>EDGAR YAK DE PADUA</td>\n",
       "      <td>41626</td>\n",
       "      <td>14</td>\n",
       "      <td>472</td>\n",
       "      <td>445</td>\n",
       "      <td>22:22</td>\n",
       "      <td>44:42</td>\n",
       "      <td>1:07:02</td>\n",
       "      <td>1:29:28</td>\n",
       "      <td>1:53:14</td>\n",
       "      <td>2:18:56</td>\n",
       "      <td>2:46:15</td>\n",
       "      <td>3:12:13</td>\n",
       "      <td>3:42:24</td>\n",
       "      <td>3:23:00</td>\n",
       "      <td>LOS ANGELES, CA</td>\n",
       "    </tr>\n",
       "    <tr>\n",
       "      <th>1</th>\n",
       "      <td>2</td>\n",
       "      <td>DAVID ROMAN</td>\n",
       "      <td>40554</td>\n",
       "      <td>15</td>\n",
       "      <td>505</td>\n",
       "      <td>473</td>\n",
       "      <td>24:47</td>\n",
       "      <td>47:14</td>\n",
       "      <td>1:08:55</td>\n",
       "      <td>1:31:25</td>\n",
       "      <td>1:54:21</td>\n",
       "      <td>2:18:44</td>\n",
       "      <td>2:45:17</td>\n",
       "      <td>3:13:01</td>\n",
       "      <td>3:33:15</td>\n",
       "      <td>3:24:01</td>\n",
       "      <td>LOS ANGELES, CA</td>\n",
       "    </tr>\n",
       "    <tr>\n",
       "      <th>2</th>\n",
       "      <td>3</td>\n",
       "      <td>RONALD PINEDA</td>\n",
       "      <td>41123</td>\n",
       "      <td>13</td>\n",
       "      <td>549</td>\n",
       "      <td>509</td>\n",
       "      <td>22:50</td>\n",
       "      <td>45:34</td>\n",
       "      <td>1:08:11</td>\n",
       "      <td>1:30:38</td>\n",
       "      <td>1:54:24</td>\n",
       "      <td>2:20:05</td>\n",
       "      <td>2:47:27</td>\n",
       "      <td>3:13:43</td>\n",
       "      <td>3:44:13</td>\n",
       "      <td>3:25:58</td>\n",
       "      <td>LOS ANGELES, CA</td>\n",
       "    </tr>\n",
       "    <tr>\n",
       "      <th>3</th>\n",
       "      <td>4</td>\n",
       "      <td>ROBERT HAWRYLO</td>\n",
       "      <td>41574</td>\n",
       "      <td>15</td>\n",
       "      <td>646</td>\n",
       "      <td>596</td>\n",
       "      <td>25:34</td>\n",
       "      <td>48:26</td>\n",
       "      <td>1:11:30</td>\n",
       "      <td>1:34:52</td>\n",
       "      <td>1:59:06</td>\n",
       "      <td>2:24:52</td>\n",
       "      <td>2:51:44</td>\n",
       "      <td>3:17:43</td>\n",
       "      <td>3:39:30</td>\n",
       "      <td>3:28:48</td>\n",
       "      <td>VAN NUYS, CA</td>\n",
       "    </tr>\n",
       "    <tr>\n",
       "      <th>4</th>\n",
       "      <td>5</td>\n",
       "      <td>BRYAN SON</td>\n",
       "      <td>40561</td>\n",
       "      <td>14</td>\n",
       "      <td>711</td>\n",
       "      <td>654</td>\n",
       "      <td>25:05</td>\n",
       "      <td>50:05</td>\n",
       "      <td>1:14:11</td>\n",
       "      <td>1:37:55</td>\n",
       "      <td>2:02:00</td>\n",
       "      <td>2:26:47</td>\n",
       "      <td>2:53:01</td>\n",
       "      <td>3:19:57</td>\n",
       "      <td>3:35:36</td>\n",
       "      <td>3:30:29</td>\n",
       "      <td>LOS ANGELES, CA</td>\n",
       "    </tr>\n",
       "  </tbody>\n",
       "</table>\n",
       "</div>"
      ],
      "text/plain": [
       "  div_place                name    bib age place gender_place 5k_split  \\\n",
       "0         1  EDGAR YAK DE PADUA  41626  14   472          445    22:22   \n",
       "1         2         DAVID ROMAN  40554  15   505          473    24:47   \n",
       "2         3       RONALD PINEDA  41123  13   549          509    22:50   \n",
       "3         4      ROBERT HAWRYLO  41574  15   646          596    25:34   \n",
       "4         5           BRYAN SON  40561  14   711          654    25:05   \n",
       "\n",
       "  10k_split 15k_split 20k_split 25k_split 30k_split 35k_split 40k_split  \\\n",
       "0     44:42   1:07:02   1:29:28   1:53:14   2:18:56   2:46:15   3:12:13   \n",
       "1     47:14   1:08:55   1:31:25   1:54:21   2:18:44   2:45:17   3:13:01   \n",
       "2     45:34   1:08:11   1:30:38   1:54:24   2:20:05   2:47:27   3:13:43   \n",
       "3     48:26   1:11:30   1:34:52   1:59:06   2:24:52   2:51:44   3:17:43   \n",
       "4     50:05   1:14:11   1:37:55   2:02:00   2:26:47   2:53:01   3:19:57   \n",
       "\n",
       "  clock_time net_time         hometown  \n",
       "0    3:42:24  3:23:00  LOS ANGELES, CA  \n",
       "1    3:33:15  3:24:01  LOS ANGELES, CA  \n",
       "2    3:44:13  3:25:58  LOS ANGELES, CA  \n",
       "3    3:39:30  3:28:48     VAN NUYS, CA  \n",
       "4    3:35:36  3:30:29  LOS ANGELES, CA  "
      ]
     },
     "execution_count": 6,
     "metadata": {},
     "output_type": "execute_result"
    }
   ],
   "source": [
    "df.head()"
   ]
  },
  {
   "cell_type": "code",
   "execution_count": 7,
   "metadata": {
    "collapsed": true
   },
   "outputs": [],
   "source": [
    "df.to_csv('data/2017/mens_results.csv', index=False)"
   ]
  },
  {
   "cell_type": "code",
   "execution_count": 8,
   "metadata": {},
   "outputs": [
    {
     "data": {
      "text/plain": [
       "div_place         0\n",
       "name              0\n",
       "bib               0\n",
       "age               0\n",
       "place             0\n",
       "gender_place      0\n",
       "5k_split        159\n",
       "10k_split       104\n",
       "15k_split       151\n",
       "20k_split       113\n",
       "25k_split       253\n",
       "30k_split       163\n",
       "35k_split       158\n",
       "40k_split       145\n",
       "clock_time        0\n",
       "net_time          0\n",
       "hometown         57\n",
       "dtype: int64"
      ]
     },
     "execution_count": 8,
     "metadata": {},
     "output_type": "execute_result"
    }
   ],
   "source": [
    "df.isnull().sum()"
   ]
  },
  {
   "cell_type": "code",
   "execution_count": 9,
   "metadata": {
    "collapsed": true
   },
   "outputs": [],
   "source": [
    "time_split_cols = ['5k_split', '10k_split', '15k_split', '20k_split', '25k_split', \\\n",
    "                  '30k_split', '35k_split', '40k_split']"
   ]
  },
  {
   "cell_type": "code",
   "execution_count": 10,
   "metadata": {
    "collapsed": true
   },
   "outputs": [],
   "source": [
    "missing_split_mask = df[time_split_cols].isnull().any(axis=1)\n",
    "missing_split_df = df[missing_split_mask]\n",
    "full_data_df = df[-missing_split_mask]"
   ]
  },
  {
   "cell_type": "code",
   "execution_count": 11,
   "metadata": {
    "collapsed": true
   },
   "outputs": [],
   "source": [
    "def time_in_minutes(time):\n",
    "    \"\"\"\n",
    "    Takes a string in the format h:m:s and converts it to minutes (including decimals)\n",
    "    \"\"\"\n",
    "    hours = 0\n",
    "    minutes = 0\n",
    "    seconds = 0\n",
    "    \n",
    "    split_time = time.split(':')\n",
    "    if len(split_time) == 1: # Only seconds...\n",
    "        seconds = int(split_time)\n",
    "    elif len(split_time) == 2: # Minutes and seconds...\n",
    "        minutes = int(split_time[0])\n",
    "        seconds = int(split_time[1])\n",
    "    elif len(split_time) == 3: # Hours, Minutes and seconds...\n",
    "        hours = int(split_time[0])\n",
    "        minutes = int(split_time[1])\n",
    "        seconds = int(split_time[2])\n",
    "    time_in_minutes = 60*hours + minutes + seconds/60\n",
    "    return time_in_minutes\n",
    "\n",
    "time_in_minutes = np.vectorize(time_in_minutes)"
   ]
  },
  {
   "cell_type": "code",
   "execution_count": 12,
   "metadata": {},
   "outputs": [
    {
     "name": "stderr",
     "output_type": "stream",
     "text": [
      "C:\\Users\\psavala\\AppData\\Local\\Continuum\\Anaconda3\\lib\\site-packages\\pandas\\core\\frame.py:2450: SettingWithCopyWarning: \n",
      "A value is trying to be set on a copy of a slice from a DataFrame.\n",
      "Try using .loc[row_indexer,col_indexer] = value instead\n",
      "\n",
      "See the caveats in the documentation: http://pandas.pydata.org/pandas-docs/stable/indexing.html#indexing-view-versus-copy\n",
      "  self[k1] = value[k2]\n"
     ]
    }
   ],
   "source": [
    "full_data_df[time_split_cols] = full_data_df[time_split_cols].apply(time_in_minutes)"
   ]
  },
  {
   "cell_type": "code",
   "execution_count": 13,
   "metadata": {},
   "outputs": [
    {
     "name": "stderr",
     "output_type": "stream",
     "text": [
      "C:\\Users\\psavala\\AppData\\Local\\Continuum\\Anaconda3\\lib\\site-packages\\ipykernel_launcher.py:1: SettingWithCopyWarning: \n",
      "A value is trying to be set on a copy of a slice from a DataFrame.\n",
      "Try using .loc[row_indexer,col_indexer] = value instead\n",
      "\n",
      "See the caveats in the documentation: http://pandas.pydata.org/pandas-docs/stable/indexing.html#indexing-view-versus-copy\n",
      "  \"\"\"Entry point for launching an IPython kernel.\n",
      "C:\\Users\\psavala\\AppData\\Local\\Continuum\\Anaconda3\\lib\\site-packages\\ipykernel_launcher.py:2: SettingWithCopyWarning: \n",
      "A value is trying to be set on a copy of a slice from a DataFrame.\n",
      "Try using .loc[row_indexer,col_indexer] = value instead\n",
      "\n",
      "See the caveats in the documentation: http://pandas.pydata.org/pandas-docs/stable/indexing.html#indexing-view-versus-copy\n",
      "  \n"
     ]
    }
   ],
   "source": [
    "full_data_df['clock_time'] = full_data_df['clock_time'].apply(time_in_minutes)\n",
    "full_data_df['net_time'] = full_data_df['net_time'].apply(time_in_minutes)"
   ]
  },
  {
   "cell_type": "code",
   "execution_count": 14,
   "metadata": {
    "collapsed": true
   },
   "outputs": [],
   "source": [
    "missing_split_df.to_csv('data/2017/mens_missing_splits.csv', index=False)\n",
    "full_data_df.to_csv('data/2017/mens_all_splits_processed.csv', index=False)"
   ]
  },
  {
   "cell_type": "code",
   "execution_count": null,
   "metadata": {
    "collapsed": true
   },
   "outputs": [],
   "source": []
  }
 ],
 "metadata": {
  "kernelspec": {
   "display_name": "Python 3",
   "language": "python",
   "name": "python3"
  },
  "language_info": {
   "codemirror_mode": {
    "name": "ipython",
    "version": 3
   },
   "file_extension": ".py",
   "mimetype": "text/x-python",
   "name": "python",
   "nbconvert_exporter": "python",
   "pygments_lexer": "ipython3",
   "version": "3.6.1"
  }
 },
 "nbformat": 4,
 "nbformat_minor": 2
}
